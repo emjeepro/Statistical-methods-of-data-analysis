{
 "cells": [
  {
   "cell_type": "markdown",
   "metadata": {},
   "source": [
    "## Модули\n",
    "Модуль содержит некоторые функции и данные в отдельном файле.   \n",
    "    <имя файла> = <имя модуля>.py    \n",
    "Объекты из модуля можно импортировать в другие модули.   \n",
    "### Импорт модуля:\n",
    "#### import <имя модуля>\n",
    "### Вызов функции, описанной в модуле:\n",
    "#### <имя модуля>.<имя функции>(<параметры>)\n",
    "### Импорт отдельной функции из модуля:\n",
    "#### from <имя модуля> import <имя функции>\n",
    "В этом случае при вызове функции имя модуля не указывается.\n",
    "### Импорт всех функций и данных из модуля:\n",
    "#### from <имя модуля> import *\n",
    "При вызове функций имя модуля не указывается.\n",
    "### Импорт функции из модуля с заменой названия функции в вызывающей программе:\n",
    "#### from <имя модуля> import <имя функции в модуле> as <имя функции в программе>\n",
    "\n",
    "Описание библиотеки стандартных модулей Python 3:  https://docs.python.org/3/library\n",
    "### Примеры стандартных модулей Python:\n",
    "#### Модуль math\n",
    "    Содержит основные математические функции (экспонента, логарифмы, тригонометрия и т. д.).  \n",
    "#### Модуль sys\n",
    "    Содержит системные функции.    \n",
    "    Например: sys.argv - список (объект list) аргументов командной строки.\n",
    "    Вывод списка параметров, с которыми запущена программа:\n",
    "        import sys\n",
    "        print(sys.argv)\n",
    "#### Модуль subprocess\n",
    "    Содержит инструменты запуска внешних процессов.\n",
    "        subprocess.call(<параметры>)"
   ]
  },
  {
   "cell_type": "markdown",
   "metadata": {},
   "source": [
    "# Библиотеки\n",
    "### Подключение библиотеки:\n",
    "####  import <имя библиотеки> as <псевдоним>\n",
    "######   \n",
    "После этого доступны функции и методы, реализованные в библиотеке.   \n",
    "#### Вызов функции или метода:   \n",
    "###### <имя библиотеки>.<имя функции или метода>(<список параметров>)"
   ]
  },
  {
   "cell_type": "markdown",
   "metadata": {},
   "source": [
    "## NumPy\n",
    "Основной тип данных - массивы. Их отличие от списков: массивы могут содержать данные только **одного типа**.\n",
    "\n",
    "### Создание массива:\n",
    "###### import numpy as np\n",
    "###### <имя массива> = np.array([элемент 1, элемент 2, ... ])\n",
    "Элементами массива могут быть другие массивы. Так формируются многомерные массивы.\n",
    "### Преобразование списка в массив NumPy:\n",
    "###### import numpy as np\n",
    "###### <имя массива> = np.array(<имя списка>)\n",
    "### Преобразование в список:\n",
    "###### <имя списка> =list(<имя объекта>)"
   ]
  },
  {
   "cell_type": "code",
   "execution_count": 1,
   "metadata": {},
   "outputs": [
    {
     "data": {
      "text/plain": [
       "array([2, 3, 4])"
      ]
     },
     "execution_count": 1,
     "metadata": {},
     "output_type": "execute_result"
    }
   ],
   "source": [
    "import numpy as np\n",
    "a = np.array([2, 3, 4])\n",
    "a"
   ]
  },
  {
   "cell_type": "code",
   "execution_count": 2,
   "metadata": {},
   "outputs": [
    {
     "name": "stdout",
     "output_type": "stream",
     "text": [
      "[2 3 4]\n"
     ]
    }
   ],
   "source": [
    "print(a)"
   ]
  },
  {
   "cell_type": "code",
   "execution_count": 3,
   "metadata": {},
   "outputs": [
    {
     "name": "stdout",
     "output_type": "stream",
     "text": [
      "<class 'list'> [1, 3, 5, 7]\n",
      "<class 'numpy.ndarray'> [1 3 5 7]\n",
      "<class 'list'> [1, 3, 5, 7]\n"
     ]
    }
   ],
   "source": [
    "x = [1, 3, 5, 7]  # список\n",
    "y = np.array(x)   # преобразование в массив numpy\n",
    "print(type(x), x)\n",
    "print(type(y), y)\n",
    "z = list(y)  # преобразование массива numpy в список\n",
    "print(type(z), z)"
   ]
  },
  {
   "cell_type": "markdown",
   "metadata": {},
   "source": [
    "### Работа с массивами\n",
    "#### Определение числа измерений массива:\n",
    "###### <имя массива>.ndim\n",
    "#### Определение размерности массива (число элементов по каждому измерению):\n",
    "###### <имя массива>.shape\n",
    "#### Определение общего количества элементов массива:\n",
    "###### <имя массива>.size\n",
    "\n",
    "!!! При разном количестве элементов вложенных массивов данный массив будет рассматриваться как одномерный (его элементы - массивы 2-го уровня)."
   ]
  },
  {
   "cell_type": "code",
   "execution_count": 7,
   "metadata": {},
   "outputs": [
    {
     "name": "stdout",
     "output_type": "stream",
     "text": [
      "[2 3 4]\n",
      "Количество измерений массива 1\n",
      "Размерность массива (3,)\n",
      "Количество элементов массива 3\n"
     ]
    }
   ],
   "source": [
    "print(a)\n",
    "print('Количество измерений массива', a.ndim)\n",
    "print('Размерность массива', a.shape)\n",
    "print('Количество элементов массива', a.size)"
   ]
  },
  {
   "cell_type": "code",
   "execution_count": 8,
   "metadata": {},
   "outputs": [
    {
     "name": "stdout",
     "output_type": "stream",
     "text": [
      "[[ 1.2  2.   5. ]\n",
      " [ 3.   4.1 -2. ]]\n",
      "Количество измерений массива 2\n",
      "Размерность массива (2, 3)\n",
      "Количество элементов массива 6\n"
     ]
    }
   ],
   "source": [
    "b = np.array([[1.2, 2, 5], [3, 4.1, -2]])\n",
    "print(b)\n",
    "print('Количество измерений массива', b.ndim)\n",
    "print('Размерность массива', b.shape)\n",
    "print('Количество элементов массива', b.size)"
   ]
  },
  {
   "cell_type": "code",
   "execution_count": 9,
   "metadata": {},
   "outputs": [
    {
     "name": "stdout",
     "output_type": "stream",
     "text": [
      "[[1.2, 2, 5] [3, 4.1]]\n",
      "Количество измерений массива 1\n",
      "Размерность массива (2,)\n",
      "Количество элементов массива 2\n"
     ]
    }
   ],
   "source": [
    "#  Определение массива с разным числом элементов во вложенных массивах (2-го уровня)\n",
    "с = np.array([[1.2, 2, 5], [3, 4.1]])\n",
    "print(с)\n",
    "print('Количество измерений массива', с.ndim)\n",
    "print('Размерность массива', с.shape)\n",
    "print('Количество элементов массива', с.size)"
   ]
  },
  {
   "cell_type": "markdown",
   "metadata": {},
   "source": [
    "#### Обращение к элементам массива - \n",
    "                                        по индексам.   \n",
    "С индексами возможны все манипуляции, которые доступны для списков.  \n",
    "   \n",
    "Дополнительно:\n",
    "- в многомерном массиве можно указывать индексы перечислением в одних квадратных скобках (в списках так нельзя):   \n",
    "    <имя массива>[<индекс 1>, <индекс 2>]\n",
    "- допускается логическая индексация (индексом является логическое выражение)"
   ]
  },
  {
   "cell_type": "code",
   "execution_count": 11,
   "metadata": {},
   "outputs": [
    {
     "name": "stdout",
     "output_type": "stream",
     "text": [
      "[1 3 5 7]\n",
      "[1 5]\n",
      "1 7\n",
      "[5 7]\n"
     ]
    }
   ],
   "source": [
    "print(y)\n",
    "print(y[::2]) # вывод всех элементов массива через 1\n",
    "print(y[0], y[-1]) # вывод первого и последнего элементов массива\n",
    "print(y[y>3]) # вывод всех элементов массива, больших 3"
   ]
  },
  {
   "cell_type": "code",
   "execution_count": null,
   "metadata": {},
   "outputs": [],
   "source": [
    "print(b)\n",
    "print('b[1, 2] = ', b[1, 2])\n",
    "B = [[1, 2, 3], [2, -3, 4]]  # список, а не массив\n",
    "print(B[1, 2]) # не работает"
   ]
  },
  {
   "cell_type": "markdown",
   "metadata": {},
   "source": [
    "## Другие отличия от списков\n",
    "##### Операция умножение на число (*)\n",
    "- в списках - дублирование списка\n",
    "- в массивах - умножение на число каждого элемента массива (число элементов не изменяется)\n",
    "### Применение арифметических операций и математических функций  \n",
    "- к спискам (а не к их отдельным элементам) не работает\n",
    "- к массиву - описание ниже.   \n",
    "#### Операции \"+\" и \"-\" к массивам применяются поэлементно\n",
    "#### Операция \" ** \" (возведение массива в степень) применяется поэлементно - все элементы массива возводятся в данную степень\n",
    "#### Применение математических функций.\n",
    "    Массив можно указывать в качестве аргумента функции (exp, sin, cos и т. п.). Функция будет применена к каждому элементу массива отдельно.\n",
    "#### Применение к массиву операций сравнения\n",
    "    Результат - массив булевских значений (результат поэлементного применения операции сравнения)."
   ]
  },
  {
   "cell_type": "code",
   "execution_count": 25,
   "metadata": {},
   "outputs": [
    {
     "name": "stdout",
     "output_type": "stream",
     "text": [
      "Умножение списка на 3:  [1, 3, 5, 7, 1, 3, 5, 7, 1, 3, 5, 7]\n",
      "Умножение массива на 3:  [ 3  9 15 21]\n",
      "Сложение массивов:  [ 3  7 11 15]\n",
      "Вычитание массивов:  [-1 -1 -1 -1]\n",
      "Возведение массива в степень:  [ 1  9 25 49]\n",
      "Применение к массиву функции sin():  [ 0.84147098  0.14112001 -0.95892427  0.6569866 ]\n",
      "Проверка условия 'элемент массива больше 3':  [False False  True  True]\n"
     ]
    }
   ],
   "source": [
    "x = [1, 3, 5, 7]  # список\n",
    "y1 = np.array(x)   # преобразование в массив numpy\n",
    "y2 = np.array([2, 4, 6, 8])\n",
    "print(\"Умножение списка на 3: \", x*3)\n",
    "print(\"Умножение массива на 3: \", y1*3)\n",
    "print(\"Сложение массивов: \", y1+y2)\n",
    "print(\"Вычитание массивов: \", y1-y2)\n",
    "print(\"Возведение массива в степень: \", y1**2)\n",
    "print(\"Применение к массиву функции sin(): \", np.sin(y1))\n",
    "print(\"Проверка условия 'элемент массива больше 3': \", y1>3)\n",
    "# аналогичные операции для списков не работают (будет ошибка)\n",
    "# print(x**2)\n",
    "# print(x>3)"
   ]
  },
  {
   "cell_type": "markdown",
   "metadata": {},
   "source": [
    "## Генерация массивов\n",
    "### Создание нулевого массива:\n",
    "#####  <имя массива> = zeros((перечисление - количество элементов  измерениях))\n",
    "### Генерация с помощью функции arange:\n",
    "#####  <имя массива> = arange(<начальное значение>, <конечное значение>, <шаг>)\n",
    "    Аргументы функции определяются так же, как у range\n",
    "### Генерация с помощью функции linspace:\n",
    "#####  <имя массива> = linspace(<левый конец интервала>, <правый конец интервала>, <количество генерируемых точек>)\n",
    "    Эта функция удобна для генерации массивов нецелых значений (например, при построении графиков)\n",
    "    !!! Отличие от range и arange: правый конец интервала включается"
   ]
  },
  {
   "cell_type": "markdown",
   "metadata": {
    "collapsed": true
   },
   "source": [
    "### Вычисление оценок числовых характеристик по выборке, представленной массивом NumPy\n",
    "Описание статистических функций NumPy:   https://docs.scipy.org/doc/numpy/reference/routines.statistics.html\n",
    "#### Основные функции:\n",
    "- **mean** - возвращает среднее значение (среднее арифметическое) элементов массива\n",
    "- **var** - возвращает дисперсию элементов массива\n",
    "- **std** - возвращает среднеквадратическое отклонение (корень из дисперсии).    \n",
    "\n",
    "**Внимание:** функции **var** и **std** имеют необязательный параметр **ddot** (по умолчанию ddot=0).    \n",
    "При ddot=0 функция **var** возвращает выборочную дисперсию (смещенную оценку генеральной дисперсии); соответсвенно, функция **std** - выборочное среднеквадратическое отклонение;   \n",
    "при ddot=1 функция **var** возвращает исправленную дисперсию (несмещенную оценку генеральной дисперсии); соответсвенно, функция **std** - исправленное среднеквадратическое отклонение.   "
   ]
  },
  {
   "cell_type": "code",
   "execution_count": 10,
   "metadata": {},
   "outputs": [
    {
     "name": "stdout",
     "output_type": "stream",
     "text": [
      "Среднее значение =  4.0\n",
      "Выборочная дисперсия =  4.0\n",
      "Исправленная дисперсия =  4.66666666667\n",
      "Выборочное среднеквадратическое отклонение =  2.0\n",
      "Исправленное среднеквадратическое отклонение =  2.16024689947\n"
     ]
    }
   ],
   "source": [
    "import numpy as np\n",
    "x = np.array([1, 2, 3, 4, 5, 6, 7])\n",
    "print('Среднее значение = ', np.mean(x))\n",
    "print('Выборочная дисперсия = ', np.var(x))\n",
    "print('Исправленная дисперсия = ', np.var(x, ddof=1))\n",
    "print('Выборочное среднеквадратическое отклонение = ', np.std(x))\n",
    "print('Исправленное среднеквадратическое отклонение = ', np.std(x, ddof=1))"
   ]
  },
  {
   "cell_type": "markdown",
   "metadata": {},
   "source": [
    "### Задание.¶\n",
    "Выполнить задание 23."
   ]
  },
  {
   "cell_type": "markdown",
   "metadata": {},
   "source": [
    "## Matplotlib\n",
    "Содержит инструментарий для построения графиков.   \n",
    "### Создание простейшего графика:"
   ]
  },
  {
   "cell_type": "code",
   "execution_count": 2,
   "metadata": {
    "collapsed": true
   },
   "outputs": [],
   "source": [
    "from matplotlib import pyplot as plt   # импорт инструментария для построения графиков\n",
    "%matplotlib inline   \n",
    "# подключение \"построения графиков online\" (не нужно будет каждый раз применять show(), чтобы вывести график)"
   ]
  },
  {
   "cell_type": "code",
   "execution_count": 17,
   "metadata": {},
   "outputs": [
    {
     "data": {
      "text/plain": [
       "<matplotlib.text.Text at 0x6be20f0>"
      ]
     },
     "execution_count": 17,
     "metadata": {},
     "output_type": "execute_result"
    },
    {
     "data": {
      "image/png": "[encoded data removed]",
      "text/plain": [
       "<matplotlib.figure.Figure at 0x6bbcbb0>"
      ]
     },
     "metadata": {},
     "output_type": "display_data"
    }
   ],
   "source": [
    "x = np.linspace(0, 5, 10) # генерация массива аргументов\n",
    "y = x**2               # генерация значений функции\n",
    "plt.figure()               # создание объекта (размеры графика - по умолчаинию)\n",
    "plt.plot(x, y, 'r')    # построение линии с координатами, заданными в массивах x и y, красным цветом (остальные параметры графика - по умолчанию)\n",
    "z = x**3               \n",
    "plt.plot(x, z, 'b')    # добавление новой линии на график\n",
    "plt.xlabel('x')        # определение подписи оси абсцисс\n",
    "plt.ylabel('y, z')        # определение подписи оси ординат\n",
    "plt.title('Графики y = x^2 и z = x^3')  # определение заголовка"
   ]
  },
  {
   "cell_type": "markdown",
   "metadata": {},
   "source": [
    "### Задание размеров графика и добавление легенды"
   ]
  },
  {
   "cell_type": "code",
   "execution_count": 22,
   "metadata": {},
   "outputs": [
    {
     "data": {
      "text/plain": [
       "<matplotlib.legend.Legend at 0x6df6750>"
      ]
     },
     "execution_count": 22,
     "metadata": {},
     "output_type": "execute_result"
    },
    {
     "data": {
      "image/png": "[encoded data removed]",
      "text/plain": [
       "<matplotlib.figure.Figure at 0x6c65a90>"
      ]
     },
     "metadata": {},
     "output_type": "display_data"
    }
   ],
   "source": [
    "plt.figure(figsize = (7, 4))     # создание графика с заданными размерами (размеры в дюймах)\n",
    "plt.plot(x, x**2, 'r', label = 'y = x^2')    # определение надписей для легенды\n",
    "plt.plot(x, x**3, 'b', label = 'z = x^3')\n",
    "plt.xlabel('x')        \n",
    "plt.ylabel('y, z')        \n",
    "plt.title('Графики y = x^2 и z = x^3')\n",
    "plt.legend(loc='upper left')             # определение положения легенды"
   ]
  },
  {
   "cell_type": "code",
   "execution_count": 27,
   "metadata": {},
   "outputs": [
    {
     "data": {
      "text/plain": [
       "<matplotlib.legend.Legend at 0x7229510>"
      ]
     },
     "execution_count": 27,
     "metadata": {},
     "output_type": "execute_result"
    },
    {
     "data": {
      "image/png": "[encoded data removed]",
      "text/plain": [
       "<matplotlib.figure.Figure at 0x71da670>"
      ]
     },
     "metadata": {},
     "output_type": "display_data"
    }
   ],
   "source": [
    "plt.figure(figsize = (7, 4))    \n",
    "plt.plot(x, x**2, 'r', label = 'y = x^2')   \n",
    "plt.plot(x, x**3, 'b', label = 'z = x^3')\n",
    "plt.xlabel('x')        \n",
    "plt.ylabel('y, z')        \n",
    "plt.title('Графики y = x^2 и z = x^3')\n",
    "plt.legend(loc=\"upper right\", bbox_to_anchor=(1.3, 0.9)) # расположение легенды вне поля графика"
   ]
  },
  {
   "cell_type": "markdown",
   "metadata": {},
   "source": [
    "### Совмещение графиков"
   ]
  },
  {
   "cell_type": "code",
   "execution_count": 31,
   "metadata": {},
   "outputs": [
    {
     "data": {
      "text/plain": [
       "<matplotlib.text.Text at 0x76c49b0>"
      ]
     },
     "execution_count": 31,
     "metadata": {},
     "output_type": "execute_result"
    },
    {
     "data": {
      "image/png": "[encoded data removed]",
      "text/plain": [
       "<matplotlib.figure.Figure at 0x7582d30>"
      ]
     },
     "metadata": {},
     "output_type": "display_data"
    }
   ],
   "source": [
    "fig = plt.figure()\n",
    "axes1 = fig.add_axes([0.1, 0.1, 0.9, 0.9])  # определение положения начала координат для каждой пары осей (первые два аргумента)\n",
    "axes2 = fig.add_axes([0.15, 0.6, 0.4, 0.3])  # и размеров графиков в долях от размеров всего рисунка (последние два аргумента)\n",
    "\n",
    "axes1.plot(x, y, 'r')\n",
    "axes1.set_xlabel('x')\n",
    "axes1.set_ylabel('y')\n",
    "axes1.set_title('График')\n",
    "\n",
    "axes2.plot(y, x, 'g')\n",
    "axes2.set_xlabel('y')\n",
    "axes2.set_ylabel('x')\n",
    "axes1.set_title('Совмещенные графики y = x^2 и обратной ей функции')"
   ]
  },
  {
   "cell_type": "markdown",
   "metadata": {},
   "source": [
    "### Построение нескольких графиков"
   ]
  },
  {
   "cell_type": "code",
   "execution_count": 35,
   "metadata": {},
   "outputs": [
    {
     "data": {
      "image/png": "[encoded data removed]",
      "text/plain": [
       "<matplotlib.figure.Figure at 0x7be6c30>"
      ]
     },
     "metadata": {},
     "output_type": "display_data"
    }
   ],
   "source": [
    "fig, axes = plt.subplots(nrows = 1, ncols = 3, figsize = (10, 4))\n",
    "i = 2\n",
    "for ax in axes:\n",
    "    ax.plot(x, x**i, 'r')\n",
    "    ax.set_xlabel('x')\n",
    "    ax.set_ylabel('y')\n",
    "    ax.set_title('y = x^' + str(i))\n",
    "    i += 1\n",
    "fig.tight_layout()   # расположение графиков без наложения"
   ]
  },
  {
   "cell_type": "markdown",
   "metadata": {},
   "source": [
    "### Построение графиков других типов\n",
    "### scatter\n",
    "Построение \"облака точек\"  -  точек с указанными массивами координат"
   ]
  },
  {
   "cell_type": "code",
   "execution_count": 46,
   "metadata": {},
   "outputs": [
    {
     "data": {
      "text/plain": [
       "<matplotlib.text.Text at 0x7a108b0>"
      ]
     },
     "execution_count": 46,
     "metadata": {},
     "output_type": "execute_result"
    },
    {
     "data": {
      "image/png": "[encoded data removed]",
      "text/plain": [
       "<matplotlib.figure.Figure at 0x7a54670>"
      ]
     },
     "metadata": {},
     "output_type": "display_data"
    }
   ],
   "source": [
    "plt.figure(figsize = (7, 4))\n",
    "x = np.linspace(0, 5, 500)\n",
    "y = x + np.random.randn(x.size)\n",
    "plt.scatter(x, y, color = 'g')\n",
    "plt.plot(x, x, 'r')\n",
    "plt.xlabel('x')        \n",
    "plt.ylabel('y')        \n",
    "plt.title('Графики y = x^2 и z = x^3')"
   ]
  },
  {
   "cell_type": "markdown",
   "metadata": {},
   "source": [
    "### Гистограмма"
   ]
  },
  {
   "cell_type": "code",
   "execution_count": 47,
   "metadata": {},
   "outputs": [
    {
     "data": {
      "text/plain": [
       "<matplotlib.text.Text at 0x7d0d970>"
      ]
     },
     "execution_count": 47,
     "metadata": {},
     "output_type": "execute_result"
    },
    {
     "data": {
      "image/png": "[encoded data removed]",
      "text/plain": [
       "<matplotlib.figure.Figure at 0x7c0e2b0>"
      ]
     },
     "metadata": {},
     "output_type": "display_data"
    }
   ],
   "source": [
    "n = np.random.randn(100000)\n",
    "fig, axes = plt.subplots(1, 2, figsize=(12,4))\n",
    "axes[0].hist(n)\n",
    "axes[0].set_xlim(min(n), max(n))\n",
    "axes[0].set_title('Гистограмма c параметрами по умолчанию')\n",
    "axes[1].hist(n, cumulative = True, bins = 50)\n",
    "axes[1].set_xlim(min(n), max(n))\n",
    "axes[1].set_title('Кумулятивная гистограмма с 50 интервалами')"
   ]
  },
  {
   "cell_type": "markdown",
   "metadata": {},
   "source": [
    "## Scipy\n",
    "Содержит инструментарий высокоуровневых математических вычислений: \n",
    "- средства линейной алгебры (решение систем линейных уравнений, матричные разложения и т. д.);\n",
    "- методы оптимизации (методы градинтного спуска в разных вариантах, методы оптимизации недифференцируемых функций и т. д.);\n",
    "- методы генерации случайных чисел с различными законами распределения;\n",
    "- методы статистической обработки данных;\n",
    "- и др.\n",
    "## Статистическая обработка данных - модуль stats\n",
    "### Импорт модуля:\n",
    "#### import scipy.stats as <псевдоним>\n",
    "### Генерация случайных чисел с требуемым законом распределения:"
   ]
  },
  {
   "cell_type": "code",
   "execution_count": 1,
   "metadata": {},
   "outputs": [
    {
     "data": {
      "text/plain": [
       "array([ 2.04651672,  2.09629654,  1.53163628,  1.57170117,  2.23062841,\n",
       "        2.86982248,  2.15892944,  2.19346589,  1.3368839 ,  1.43991028])"
      ]
     },
     "execution_count": 1,
     "metadata": {},
     "output_type": "execute_result"
    }
   ],
   "source": [
    "import scipy.stats as sts\n",
    "norm_rv = sts.norm(loc = 2, scale = 0.5)   # создание нормально распределенной случайной величины с именем norm_rv\n",
    "norm_rv.rvs(size=10) # генерация 10 значений этой случайной величины"
   ]
  },
  {
   "cell_type": "markdown",
   "metadata": {},
   "source": [
    "Параметр **loc** задаёт среднее значение, **scale** — среднеквадратичное отклонение σ, **size** — размер выборки (имя параметра size при вызове функции rvs можно не писать).\n",
    "\n",
    "Методы генерации других законов распределения: http://docs.scipy.org/doc/scipy-0.14.0/reference/stats.html   \n",
    "Там же - полный список функций для работы со случайными величинами"
   ]
  },
  {
   "cell_type": "markdown",
   "metadata": {},
   "source": [
    "### Инструменты работы со случайными величинами\n",
    "#### Для непрерывной СВ (на примере нормального закона)"
   ]
  },
  {
   "cell_type": "code",
   "execution_count": 49,
   "metadata": {},
   "outputs": [
    {
     "data": {
      "text/plain": [
       "0.97724986805182079"
      ]
     },
     "execution_count": 49,
     "metadata": {},
     "output_type": "execute_result"
    }
   ],
   "source": [
    "# Получение значения функции распределения в заданной точке:\n",
    "norm_rv.cdf(3)"
   ]
  },
  {
   "cell_type": "code",
   "execution_count": 50,
   "metadata": {},
   "outputs": [
    {
     "data": {
      "text/plain": [
       "<matplotlib.text.Text at 0x9875b70>"
      ]
     },
     "execution_count": 50,
     "metadata": {},
     "output_type": "execute_result"
    },
    {
     "data": {
      "image/png": "[encoded data removed]",
      "text/plain": [
       "<matplotlib.figure.Figure at 0x8180b30>"
      ]
     },
     "metadata": {},
     "output_type": "display_data"
    }
   ],
   "source": [
    "# Построение графика функции распределения данной случайной величины\n",
    "x = np.linspace(0,4,100)\n",
    "cdf = norm_rv.cdf(x)   # аргумент функции - вектор x, значение функции  -  вектор cdf\n",
    "plt.plot(x, cdf)\n",
    "plt.ylabel('$F(x)$')\n",
    "plt.xlabel('$x$')"
   ]
  },
  {
   "cell_type": "code",
   "execution_count": 51,
   "metadata": {},
   "outputs": [
    {
     "data": {
      "text/plain": [
       "0.10798193302637613"
      ]
     },
     "execution_count": 51,
     "metadata": {},
     "output_type": "execute_result"
    }
   ],
   "source": [
    "# Получение значения плотности вероятности в заданной точке:\n",
    "norm_rv.pdf(3)"
   ]
  },
  {
   "cell_type": "code",
   "execution_count": 52,
   "metadata": {},
   "outputs": [
    {
     "data": {
      "text/plain": [
       "<matplotlib.text.Text at 0x79e6c30>"
      ]
     },
     "execution_count": 52,
     "metadata": {},
     "output_type": "execute_result"
    },
    {
     "data": {
      "image/png": "[encoded data removed]",
      "text/plain": [
       "<matplotlib.figure.Figure at 0x98b2d10>"
      ]
     },
     "metadata": {},
     "output_type": "display_data"
    }
   ],
   "source": [
    "# Построение графика функции плотности вероятности данной случайной величины\n",
    "x = np.linspace(0,4,100)\n",
    "pdf = norm_rv.pdf(x)   \n",
    "plt.plot(x, pdf)\n",
    "plt.ylabel('$f(x)$')\n",
    "plt.xlabel('$x$')"
   ]
  },
  {
   "cell_type": "markdown",
   "metadata": {},
   "source": [
    "#### Для дискретной СВ (на примере биномиального закона)"
   ]
  },
  {
   "cell_type": "code",
   "execution_count": 53,
   "metadata": {},
   "outputs": [
    {
     "data": {
      "text/plain": [
       "array([13, 13, 13, 15, 15, 13, 12, 14, 16, 18])"
      ]
     },
     "execution_count": 53,
     "metadata": {},
     "output_type": "execute_result"
    }
   ],
   "source": [
    "binomial_rv = sts.binom(20, 0.7) # Создание случайной величины (первый аргумент — значение параметра n, второй — параметра p)\n",
    "binomial_rv.rvs(10)  # генерация 10 значений этой случайной величины"
   ]
  },
  {
   "cell_type": "code",
   "execution_count": 54,
   "metadata": {},
   "outputs": [
    {
     "data": {
      "text/plain": [
       "<matplotlib.text.Text at 0x9a97f90>"
      ]
     },
     "execution_count": 54,
     "metadata": {},
     "output_type": "execute_result"
    },
    {
     "data": {
      "image/png": "[encoded data removed]",
      "text/plain": [
       "<matplotlib.figure.Figure at 0x9a1abd0>"
      ]
     },
     "metadata": {},
     "output_type": "display_data"
    }
   ],
   "source": [
    "# Построение графика функции распределения данной случайной величины\n",
    "x = np.linspace(0, 20, 21)\n",
    "cdf = binomial_rv.cdf(x)\n",
    "plt.step(x, cdf)\n",
    "plt.ylabel('$F(x)$')\n",
    "plt.xlabel('$x$')"
   ]
  },
  {
   "cell_type": "code",
   "execution_count": 55,
   "metadata": {},
   "outputs": [
    {
     "data": {
      "text/plain": [
       "<matplotlib.text.Text at 0x9ac8a50>"
      ]
     },
     "execution_count": 55,
     "metadata": {},
     "output_type": "execute_result"
    },
    {
     "data": {
      "image/png": "[encoded data removed]",
      "text/plain": [
       "<matplotlib.figure.Figure at 0x9a3e190>"
      ]
     },
     "metadata": {},
     "output_type": "display_data"
    }
   ],
   "source": [
    "# Построение графика функции вероятности данной случайной величины\n",
    "x = np.linspace(0, 20, 21)\n",
    "pmf = binomial_rv.pmf(x)  # функция вероятности pmf для дискретных случайных величин заменяет функцию плотности pdf\n",
    "plt.plot(x, pmf, 'o')\n",
    "plt.ylabel('$P(X=x)$')\n",
    "plt.xlabel('$x$')"
   ]
  },
  {
   "cell_type": "code",
   "execution_count": 13,
   "metadata": {},
   "outputs": [
    {
     "data": {
      "text/plain": [
       "<matplotlib.text.Text at 0x66e0770>"
      ]
     },
     "execution_count": 13,
     "metadata": {},
     "output_type": "execute_result"
    },
    {
     "data": {
      "image/png": "[encoded data removed]",
      "text/plain": [
       "<matplotlib.figure.Figure at 0x66c04b0>"
      ]
     },
     "metadata": {},
     "output_type": "display_data"
    }
   ],
   "source": [
    "# Изучеение поведения биномиально распределенных величин при разных значениях параметров:\n",
    "x = np.linspace(0, 45, 46)\n",
    "symbols = iter(['o', 's', '^', '+'])\n",
    "for N in [20, 30]:\n",
    "    for p in [0.2, 0.8]:\n",
    "        rv = sts.binom(N, p)\n",
    "        pmf = rv.pmf(x)\n",
    "        plt.plot(x, pmf, next(symbols), label=\"$N=%s, p=%s$\" % (N,p))\n",
    "plt.legend()\n",
    "plt.title(\"PMF (binomial)\")\n",
    "plt.ylabel('$P(X=x)$')\n",
    "plt.xlabel('$x$')"
   ]
  },
  {
   "cell_type": "markdown",
   "metadata": {},
   "source": [
    "### Задание.¶\n",
    "Выполнить задание 24."
   ]
  },
  {
   "cell_type": "markdown",
   "metadata": {},
   "source": [
    "## Критические точки стандартных распределений\n",
    "Напоминание.   \n",
    "Пусть случайная величина K рассматривается как статистический критерий, F - функция распределения СВ K.   \n",
    "- Критическая точка в случае левосторонней критичекой области определяется из уравнения  \n",
    "       P(K < k_кр) = alfa,  т. е.  F(k_кр) = alfa; \n",
    "- критическая точка в случае правосторонней критической области определяется из уравнения\n",
    "       P(K > k_кр) = alfa,  т. е.  1 - F(k_кр) = alfa; \n",
    "- критическая точка в случае двусторонней симметричной критической области определяется из уравнения\n",
    "       P(K > k_кр) = alfa/2,  т. е.  1 - F(k_кр) = alfa/2.\n",
    "#### Замечание.\n",
    "Для всех функций, описанных ниже, указаны только обязательные параметры. При решении прикладных задач может быть необходимо переопределить значения параметров, заданных по умолчанию. Подробнее обо всех параметрах рассматриваемых функций см. соответствующие ссылки. \n",
    "\n",
    "### Критические точки t-распределения (распределения Стьюдента)\n",
    "\n",
    "Распределение Стьюдента моделируется в модуле stats с омощью функции t.   \n",
    "См. https://docs.scipy.org/doc/scipy-0.14.0/reference/generated/scipy.stats.t.html#scipy.stats.t\n",
    "- Функция распределения: scipy.stats.t.cdf(<значение СВ>, <число степеней свободы>);\n",
    "- функция плотности вероятности: scipy.stats.t.pdf(<значение СВ>, <число степеней свободы>);\n",
    "- функция, обратная функции распределения - scipy.stats.t.ppf(<значение alfa>, <число степеней свободы>).   \n",
    "Поэтому критическую точку для правостороней области можно определить как\n",
    "         k_кр = scipy.stats.t.ppf(1-alfa, <число степеней свободы>);\n",
    "для двусторонней области - как\n",
    "         k_кр = scipy.stats.t.ppf(1-alfa/2, <число степеней свободы>).\n",
    "         \n",
    "### Критические точки F-распределения (распределения Фишера)\n",
    "\n",
    "Распределение Фишера моделируется в модуле stats с омощью функции z.  \n",
    "См. https://docs.scipy.org/doc/scipy-0.14.0/reference/generated/scipy.stats.f.html#scipy.stats.f\n",
    "\n",
    "### Критические точки хи-квадрат\n",
    "\n",
    "Распределение хи-квадрат моделируется в модуле stats с омощью функции chi2.  \n",
    "См. https://docs.scipy.org/doc/scipy-0.14.0/reference/generated/scipy.stats.chi2.html#scipy.stats.chi2\n",
    "\n",
    "#### Задание: \n",
    "попробуйте получить несколько критических точек распределения Стьюдента при различных значениях уровня значимости и числа степеней свободы; сравните их с теми значениями, которые дает функция СТЬЮДРАСПОБР в Excel;   \n",
    "то же задание для распределений Фишера и хи-квадрат."
   ]
  },
  {
   "cell_type": "code",
   "execution_count": 7,
   "metadata": {
    "collapsed": true
   },
   "outputs": [],
   "source": [
    "# Определение критических точек распределения Стьюдента, Фишера и хи-квадрат.\n",
    "# Ваш код здесь:\n"
   ]
  },
  {
   "cell_type": "markdown",
   "metadata": {
    "collapsed": true
   },
   "source": [
    "## Проверка статистических гипотез\n",
    "#### Функция scipy.stats.ttest_1samp(<массив данных выборки>, m0 )\n",
    "Позволяет проверить гипотезу о равенстве генеральной средней гипотетическому значению m0.   \n",
    "Возвращает наблюдаемое значение t-статистики и достигаемый на этом значении уровень значимости alfa - вероятность того, что будет зафиксировано значение  критерия, не меньше наблюдаемого, при условии справедливости нулевой гипотезы (требуется сравнить его с заданным уровнем значимости и сделать вывод относительно нулевой гипотезы, исходя из вида критической области).   \n",
    "См. https://docs.scipy.org/doc/scipy-0.14.0/reference/generated/scipy.stats.ttest_1samp.html#scipy.stats.ttest_1samp\n",
    "#### Функция scipy.stats.ttest_ind(<массив данных выборки 1>, <массив данных выборки 2>)\n",
    "Позволяет проверить гипотезу о равенстве генеральных средних для независисмых выборок.   \n",
    "Возвращает наблюдаемое значение t-статистики и достигаемый на этом значении уровень значимости alfa - вероятность того, что будет зафиксировано значение  критерия, не меньше наблюдаемого, при условии справедливости нулевой гипотезы.   \n",
    "Фнкция имеет необязательный параметр equal_var (по умолчанию True) - условие равенства дисперсий.   \n",
    "См. https://docs.scipy.org/doc/scipy-0.14.0/reference/generated/scipy.stats.ttest_ind.html\n",
    "#### Функция scipy.stats. chisquare(<массив наблюдаемых частот>, <массив ожидаемых частот>, <количество оцениваемых параметров> )\n",
    "Позволяет проверить гипотезу о предполагаемом законе распределения.   \n",
    "Возвращает наблюдаемое значение хи-2-статистики и и достигаемый на этом значении уровень значимости alfa - вероятность того, что будет зафиксировано значение  критерия, не меньше наблюдаемого, при условии справедливости нулевой гипотезы.      \n",
    "Количество оцениваемых параметров (используется при определении числа степеней свободы) по умолчанию равно нулю.   \n",
    "См. https://docs.scipy.org/doc/scipy-0.14.0/reference/generated/scipy.stats.chisquare.html#scipy.stats.chisquare"
   ]
  },
  {
   "cell_type": "code",
   "execution_count": 17,
   "metadata": {},
   "outputs": [
    {
     "data": {
      "text/plain": [
       "Power_divergenceResult(statistic=4.0986802449348003, pvalue=0.25100371326774784)"
      ]
     },
     "execution_count": 17,
     "metadata": {},
     "output_type": "execute_result"
    }
   ],
   "source": [
    "# Пример хи-2-теста\n",
    "sts.chisquare([16, 9, 11, 13, 11], f_exp = [12.66, 13.8, 13.44, 9.78, 10.32], ddof = 1)\n",
    "# Наблюдаемое значение критерия равно 4,099; вероятность того, что при условии справедливости нулевой гипотезы \n",
    "# будет зафиксировано значение не меньше наблюдаемого, равна 0,25"
   ]
  },
  {
   "cell_type": "code",
   "execution_count": 22,
   "metadata": {},
   "outputs": [
    {
     "data": {
      "text/plain": [
       "6.2513886311703226"
      ]
     },
     "execution_count": 22,
     "metadata": {},
     "output_type": "execute_result"
    }
   ],
   "source": [
    "# Критическое значение критерия хи-2 при уровне значимости 0,1 с 3 степенями свободы (5 разрядов минус 2 связи)\n",
    "sts.chi2.ppf(1-0.1, 3)"
   ]
  },
  {
   "cell_type": "markdown",
   "metadata": {},
   "source": [
    "### Задание.¶\n",
    "Выполнить задания 25, 26."
   ]
  },
  {
   "cell_type": "markdown",
   "metadata": {},
   "source": [
    "## Pandas\n",
    "Содержит удобный инструментарий для работы с табличными данными.   \n",
    "#### Импорт библиотеки:\n",
    "##### import pandas as <псевдоним>\n",
    "#### Основные структуры данных:\n",
    "- DataFrame; \n",
    "- Series.   \n",
    "\n",
    "Структура/объект **Series** - объект, похожий на одномерный массив (список Python); отличительная ососбенность - наличие ассоциированных меток (индексов) у каждого элемента (как у словаря Python).   \n",
    "У объекта Series есть атрибуты, через которые можно получить список элементов и индексы: values и index соответственно."
   ]
  },
  {
   "cell_type": "code",
   "execution_count": 1,
   "metadata": {},
   "outputs": [
    {
     "data": {
      "text/plain": [
       "0    a\n",
       "1    b\n",
       "2    c\n",
       "3    d\n",
       "4    e\n",
       "5    f\n",
       "dtype: object"
      ]
     },
     "execution_count": 1,
     "metadata": {},
     "output_type": "execute_result"
    }
   ],
   "source": [
    "import pandas as pd\n",
    "my_series = pd.Series(['a', 'b', 'c', 'd', 'e', 'f'])\n",
    "my_series"
   ]
  },
  {
   "cell_type": "code",
   "execution_count": 25,
   "metadata": {},
   "outputs": [
    {
     "data": {
      "text/plain": [
       "RangeIndex(start=0, stop=6, step=1)"
      ]
     },
     "execution_count": 25,
     "metadata": {},
     "output_type": "execute_result"
    }
   ],
   "source": [
    "my_series.index"
   ]
  },
  {
   "cell_type": "code",
   "execution_count": 24,
   "metadata": {},
   "outputs": [
    {
     "data": {
      "text/plain": [
       "array(['a', 'b', 'c', 'd', 'e', 'f'], dtype=object)"
      ]
     },
     "execution_count": 24,
     "metadata": {},
     "output_type": "execute_result"
    }
   ],
   "source": [
    "my_series.values"
   ]
  },
  {
   "cell_type": "markdown",
   "metadata": {},
   "source": [
    "\n",
    "Объект **DataFrame** можно представлять себе как двумерную таблицу. Столбцами в объекте DataFrame выступают объекты Series, элементы которых образуют строки.\n"
   ]
  },
  {
   "cell_type": "code",
   "execution_count": 31,
   "metadata": {},
   "outputs": [
    {
     "data": {
      "text/html": [
       "<div>\n",
       "<style>\n",
       "    .dataframe thead tr:only-child th {\n",
       "        text-align: right;\n",
       "    }\n",
       "\n",
       "    .dataframe thead th {\n",
       "        text-align: left;\n",
       "    }\n",
       "\n",
       "    .dataframe tbody tr th {\n",
       "        vertical-align: top;\n",
       "    }\n",
       "</style>\n",
       "<table border=\"1\" class=\"dataframe\">\n",
       "  <thead>\n",
       "    <tr style=\"text-align: right;\">\n",
       "      <th></th>\n",
       "      <th>Игры</th>\n",
       "      <th>Команда</th>\n",
       "      <th>Очки</th>\n",
       "    </tr>\n",
       "  </thead>\n",
       "  <tbody>\n",
       "    <tr>\n",
       "      <th>0</th>\n",
       "      <td>3</td>\n",
       "      <td>Спартак</td>\n",
       "      <td>4</td>\n",
       "    </tr>\n",
       "    <tr>\n",
       "      <th>1</th>\n",
       "      <td>2</td>\n",
       "      <td>Динамо</td>\n",
       "      <td>2</td>\n",
       "    </tr>\n",
       "    <tr>\n",
       "      <th>2</th>\n",
       "      <td>2</td>\n",
       "      <td>ЦСКА</td>\n",
       "      <td>3</td>\n",
       "    </tr>\n",
       "    <tr>\n",
       "      <th>3</th>\n",
       "      <td>3</td>\n",
       "      <td>Зенит</td>\n",
       "      <td>3</td>\n",
       "    </tr>\n",
       "    <tr>\n",
       "      <th>4</th>\n",
       "      <td>1</td>\n",
       "      <td>Сибирь</td>\n",
       "      <td>2</td>\n",
       "    </tr>\n",
       "  </tbody>\n",
       "</table>\n",
       "</div>"
      ],
      "text/plain": [
       "   Игры  Команда  Очки\n",
       "0     3  Спартак     4\n",
       "1     2   Динамо     2\n",
       "2     2     ЦСКА     3\n",
       "3     3    Зенит     3\n",
       "4     1   Сибирь     2"
      ]
     },
     "execution_count": 31,
     "metadata": {},
     "output_type": "execute_result"
    }
   ],
   "source": [
    "# Создание Dataframe на основе словаря Python:\n",
    "data = pd.DataFrame({'Команда': ['Спартак', 'Динамо', 'ЦСКА', 'Зенит', 'Сибирь'], 'Игры': [3, 2, 2, 3, 1], 'Очки': [4, 2, 3, 3, 2]})\n",
    "data"
   ]
  },
  {
   "cell_type": "code",
   "execution_count": 33,
   "metadata": {},
   "outputs": [
    {
     "data": {
      "text/html": [
       "<div>\n",
       "<style>\n",
       "    .dataframe thead tr:only-child th {\n",
       "        text-align: right;\n",
       "    }\n",
       "\n",
       "    .dataframe thead th {\n",
       "        text-align: left;\n",
       "    }\n",
       "\n",
       "    .dataframe tbody tr th {\n",
       "        vertical-align: top;\n",
       "    }\n",
       "</style>\n",
       "<table border=\"1\" class=\"dataframe\">\n",
       "  <thead>\n",
       "    <tr style=\"text-align: right;\">\n",
       "      <th></th>\n",
       "      <th>Команда</th>\n",
       "      <th>Игры</th>\n",
       "      <th>Очки</th>\n",
       "    </tr>\n",
       "  </thead>\n",
       "  <tbody>\n",
       "    <tr>\n",
       "      <th>0</th>\n",
       "      <td>Спартак</td>\n",
       "      <td>3</td>\n",
       "      <td>4</td>\n",
       "    </tr>\n",
       "    <tr>\n",
       "      <th>1</th>\n",
       "      <td>Динамо</td>\n",
       "      <td>2</td>\n",
       "      <td>2</td>\n",
       "    </tr>\n",
       "    <tr>\n",
       "      <th>2</th>\n",
       "      <td>ЦСКА</td>\n",
       "      <td>2</td>\n",
       "      <td>3</td>\n",
       "    </tr>\n",
       "    <tr>\n",
       "      <th>3</th>\n",
       "      <td>Зенит</td>\n",
       "      <td>3</td>\n",
       "      <td>3</td>\n",
       "    </tr>\n",
       "    <tr>\n",
       "      <th>4</th>\n",
       "      <td>Сибирь</td>\n",
       "      <td>1</td>\n",
       "      <td>2</td>\n",
       "    </tr>\n",
       "  </tbody>\n",
       "</table>\n",
       "</div>"
      ],
      "text/plain": [
       "   Команда  Игры  Очки\n",
       "0  Спартак     3     4\n",
       "1   Динамо     2     2\n",
       "2     ЦСКА     2     3\n",
       "3    Зенит     3     3\n",
       "4   Сибирь     1     2"
      ]
     },
     "execution_count": 33,
     "metadata": {},
     "output_type": "execute_result"
    }
   ],
   "source": [
    "data[['Команда', 'Игры', 'Очки']]"
   ]
  },
  {
   "cell_type": "code",
   "execution_count": 34,
   "metadata": {},
   "outputs": [
    {
     "data": {
      "text/html": [
       "<div>\n",
       "<style>\n",
       "    .dataframe thead tr:only-child th {\n",
       "        text-align: right;\n",
       "    }\n",
       "\n",
       "    .dataframe thead th {\n",
       "        text-align: left;\n",
       "    }\n",
       "\n",
       "    .dataframe tbody tr th {\n",
       "        vertical-align: top;\n",
       "    }\n",
       "</style>\n",
       "<table border=\"1\" class=\"dataframe\">\n",
       "  <thead>\n",
       "    <tr style=\"text-align: right;\">\n",
       "      <th></th>\n",
       "      <th>Команда</th>\n",
       "      <th>Игры</th>\n",
       "      <th>Очки</th>\n",
       "    </tr>\n",
       "  </thead>\n",
       "  <tbody>\n",
       "    <tr>\n",
       "      <th>0</th>\n",
       "      <td>Спартак</td>\n",
       "      <td>3</td>\n",
       "      <td>4</td>\n",
       "    </tr>\n",
       "    <tr>\n",
       "      <th>2</th>\n",
       "      <td>ЦСКА</td>\n",
       "      <td>2</td>\n",
       "      <td>3</td>\n",
       "    </tr>\n",
       "    <tr>\n",
       "      <th>3</th>\n",
       "      <td>Зенит</td>\n",
       "      <td>3</td>\n",
       "      <td>3</td>\n",
       "    </tr>\n",
       "  </tbody>\n",
       "</table>\n",
       "</div>"
      ],
      "text/plain": [
       "   Команда  Игры  Очки\n",
       "0  Спартак     3     4\n",
       "2     ЦСКА     2     3\n",
       "3    Зенит     3     3"
      ]
     },
     "execution_count": 34,
     "metadata": {},
     "output_type": "execute_result"
    }
   ],
   "source": [
    "# Вывод строк с заданными номерами и заданных столбцов\n",
    "data.loc[[0, 2, 3], ['Команда', 'Игры', 'Очки']]"
   ]
  },
  {
   "cell_type": "code",
   "execution_count": 35,
   "metadata": {},
   "outputs": [
    {
     "data": {
      "text/html": [
       "<div>\n",
       "<style>\n",
       "    .dataframe thead tr:only-child th {\n",
       "        text-align: right;\n",
       "    }\n",
       "\n",
       "    .dataframe thead th {\n",
       "        text-align: left;\n",
       "    }\n",
       "\n",
       "    .dataframe tbody tr th {\n",
       "        vertical-align: top;\n",
       "    }\n",
       "</style>\n",
       "<table border=\"1\" class=\"dataframe\">\n",
       "  <thead>\n",
       "    <tr style=\"text-align: right;\">\n",
       "      <th></th>\n",
       "      <th>Игры</th>\n",
       "      <th>Команда</th>\n",
       "      <th>Очки</th>\n",
       "    </tr>\n",
       "  </thead>\n",
       "  <tbody>\n",
       "    <tr>\n",
       "      <th>0</th>\n",
       "      <td>3</td>\n",
       "      <td>Спартак</td>\n",
       "      <td>4</td>\n",
       "    </tr>\n",
       "    <tr>\n",
       "      <th>1</th>\n",
       "      <td>2</td>\n",
       "      <td>Динамо</td>\n",
       "      <td>2</td>\n",
       "    </tr>\n",
       "    <tr>\n",
       "      <th>2</th>\n",
       "      <td>2</td>\n",
       "      <td>ЦСКА</td>\n",
       "      <td>3</td>\n",
       "    </tr>\n",
       "  </tbody>\n",
       "</table>\n",
       "</div>"
      ],
      "text/plain": [
       "   Игры  Команда  Очки\n",
       "0     3  Спартак     4\n",
       "1     2   Динамо     2\n",
       "2     2     ЦСКА     3"
      ]
     },
     "execution_count": 35,
     "metadata": {},
     "output_type": "execute_result"
    }
   ],
   "source": [
    "# Вывод первых трех строк\n",
    "data.head(3)"
   ]
  },
  {
   "cell_type": "markdown",
   "metadata": {
    "collapsed": true
   },
   "source": [
    "### Считывание внешних данных в DataFrame:\n",
    "##### <имя фрейма> = pd.read_csv(<путь к файлу>, header = <номер строки-заголовка>, sep = <разделитель>)\n",
    "Если содержимое файла содержит символы на кириллице, то для их корректной обработки необходимо указать еще один параметр:   \n",
    "encoding = 'cp1251'."
   ]
  },
  {
   "cell_type": "code",
   "execution_count": 61,
   "metadata": {},
   "outputs": [
    {
     "data": {
      "text/html": [
       "<div>\n",
       "<style>\n",
       "    .dataframe thead tr:only-child th {\n",
       "        text-align: right;\n",
       "    }\n",
       "\n",
       "    .dataframe thead th {\n",
       "        text-align: left;\n",
       "    }\n",
       "\n",
       "    .dataframe tbody tr th {\n",
       "        vertical-align: top;\n",
       "    }\n",
       "</style>\n",
       "<table border=\"1\" class=\"dataframe\">\n",
       "  <thead>\n",
       "    <tr style=\"text-align: right;\">\n",
       "      <th></th>\n",
       "      <th>ФИО</th>\n",
       "      <th>Группа</th>\n",
       "      <th>Дата_рождения</th>\n",
       "      <th>Оценка_1</th>\n",
       "      <th>Оценка_2</th>\n",
       "      <th>Оценка_3</th>\n",
       "    </tr>\n",
       "  </thead>\n",
       "  <tbody>\n",
       "    <tr>\n",
       "      <th>0</th>\n",
       "      <td>Петров</td>\n",
       "      <td>513</td>\n",
       "      <td>23.05.1967</td>\n",
       "      <td>3</td>\n",
       "      <td>4</td>\n",
       "      <td>2</td>\n",
       "    </tr>\n",
       "    <tr>\n",
       "      <th>1</th>\n",
       "      <td>Васильев</td>\n",
       "      <td>312</td>\n",
       "      <td>18.11.1965</td>\n",
       "      <td>3</td>\n",
       "      <td>2</td>\n",
       "      <td>2</td>\n",
       "    </tr>\n",
       "    <tr>\n",
       "      <th>2</th>\n",
       "      <td>Николаев</td>\n",
       "      <td>313</td>\n",
       "      <td>23.01.1965</td>\n",
       "      <td>2</td>\n",
       "      <td>3</td>\n",
       "      <td>4</td>\n",
       "    </tr>\n",
       "  </tbody>\n",
       "</table>\n",
       "</div>"
      ],
      "text/plain": [
       "        ФИО  Группа Дата_рождения  Оценка_1  Оценка_2  Оценка_3\n",
       "0    Петров     513    23.05.1967         3         4         2\n",
       "1  Васильев     312    18.11.1965         3         2         2\n",
       "2  Николаев     313    23.01.1965         2         3         4"
      ]
     },
     "execution_count": 61,
     "metadata": {},
     "output_type": "execute_result"
    }
   ],
   "source": [
    "import pandas as pd\n",
    "frame = pd.read_csv('C:/Users/Acer1/Desktop/ForPython/input_file.txt', sep='\\t', header=0, encoding = 'cp1251')\n",
    "frame"
   ]
  },
  {
   "cell_type": "markdown",
   "metadata": {
    "collapsed": true
   },
   "source": [
    "### Работа с DataFrame"
   ]
  },
  {
   "cell_type": "markdown",
   "metadata": {},
   "source": [
    "Обращение к столбцам фрейма - через атрибут columns"
   ]
  },
  {
   "cell_type": "code",
   "execution_count": 62,
   "metadata": {},
   "outputs": [
    {
     "data": {
      "text/plain": [
       "Index(['ФИО', 'Группа', 'Дата_рождения', 'Оценка_1', 'Оценка_2', 'Оценка_3'], dtype='object')"
      ]
     },
     "execution_count": 62,
     "metadata": {},
     "output_type": "execute_result"
    }
   ],
   "source": [
    "# Вывод названий столбцов\n",
    "frame.columns"
   ]
  },
  {
   "cell_type": "code",
   "execution_count": 63,
   "metadata": {},
   "outputs": [
    {
     "data": {
      "text/plain": [
       "(3, 6)"
      ]
     },
     "execution_count": 63,
     "metadata": {},
     "output_type": "execute_result"
    }
   ],
   "source": [
    "# Вывод размерности таблицы (атрибут shape)\n",
    "frame.shape"
   ]
  },
  {
   "cell_type": "code",
   "execution_count": 64,
   "metadata": {},
   "outputs": [
    {
     "data": {
      "text/html": [
       "<div>\n",
       "<style>\n",
       "    .dataframe thead tr:only-child th {\n",
       "        text-align: right;\n",
       "    }\n",
       "\n",
       "    .dataframe thead th {\n",
       "        text-align: left;\n",
       "    }\n",
       "\n",
       "    .dataframe tbody tr th {\n",
       "        vertical-align: top;\n",
       "    }\n",
       "</style>\n",
       "<table border=\"1\" class=\"dataframe\">\n",
       "  <thead>\n",
       "    <tr style=\"text-align: right;\">\n",
       "      <th></th>\n",
       "      <th>ФИО</th>\n",
       "      <th>Группа</th>\n",
       "      <th>Дата_рождения</th>\n",
       "      <th>Оценка_1</th>\n",
       "      <th>Оценка_2</th>\n",
       "      <th>Оценка_3</th>\n",
       "    </tr>\n",
       "  </thead>\n",
       "  <tbody>\n",
       "    <tr>\n",
       "      <th>0</th>\n",
       "      <td>Петров</td>\n",
       "      <td>513.0</td>\n",
       "      <td>23.05.1967</td>\n",
       "      <td>3.0</td>\n",
       "      <td>4.0</td>\n",
       "      <td>2.0</td>\n",
       "    </tr>\n",
       "    <tr>\n",
       "      <th>1</th>\n",
       "      <td>Васильев</td>\n",
       "      <td>312.0</td>\n",
       "      <td>18.11.1965</td>\n",
       "      <td>3.0</td>\n",
       "      <td>2.0</td>\n",
       "      <td>2.0</td>\n",
       "    </tr>\n",
       "    <tr>\n",
       "      <th>2</th>\n",
       "      <td>Николаев</td>\n",
       "      <td>313.0</td>\n",
       "      <td>23.01.1965</td>\n",
       "      <td>2.0</td>\n",
       "      <td>3.0</td>\n",
       "      <td>4.0</td>\n",
       "    </tr>\n",
       "    <tr>\n",
       "      <th>3</th>\n",
       "      <td>Ловцов</td>\n",
       "      <td>NaN</td>\n",
       "      <td>28.10.1965</td>\n",
       "      <td>NaN</td>\n",
       "      <td>NaN</td>\n",
       "      <td>NaN</td>\n",
       "    </tr>\n",
       "  </tbody>\n",
       "</table>\n",
       "</div>"
      ],
      "text/plain": [
       "        ФИО  Группа Дата_рождения  Оценка_1  Оценка_2  Оценка_3\n",
       "0    Петров   513.0    23.05.1967       3.0       4.0       2.0\n",
       "1  Васильев   312.0    18.11.1965       3.0       2.0       2.0\n",
       "2  Николаев   313.0    23.01.1965       2.0       3.0       4.0\n",
       "3    Ловцов     NaN    28.10.1965       NaN       NaN       NaN"
      ]
     },
     "execution_count": 64,
     "metadata": {},
     "output_type": "execute_result"
    }
   ],
   "source": [
    "# Добавление новой строки с помощью словаря (один из возможных способов)\n",
    "new_line = {'ФИО':'Ловцов', 'Дата_рождения':'28.10.1965'}\n",
    "frame.append(new_line, ignore_index=True)"
   ]
  },
  {
   "cell_type": "markdown",
   "metadata": {},
   "source": [
    "В тех столбцах, значения в которых не были определены, показано NaN."
   ]
  },
  {
   "cell_type": "code",
   "execution_count": 65,
   "metadata": {},
   "outputs": [
    {
     "data": {
      "text/html": [
       "<div>\n",
       "<style>\n",
       "    .dataframe thead tr:only-child th {\n",
       "        text-align: right;\n",
       "    }\n",
       "\n",
       "    .dataframe thead th {\n",
       "        text-align: left;\n",
       "    }\n",
       "\n",
       "    .dataframe tbody tr th {\n",
       "        vertical-align: top;\n",
       "    }\n",
       "</style>\n",
       "<table border=\"1\" class=\"dataframe\">\n",
       "  <thead>\n",
       "    <tr style=\"text-align: right;\">\n",
       "      <th></th>\n",
       "      <th>ФИО</th>\n",
       "      <th>Группа</th>\n",
       "      <th>Дата_рождения</th>\n",
       "      <th>Оценка_1</th>\n",
       "      <th>Оценка_2</th>\n",
       "      <th>Оценка_3</th>\n",
       "    </tr>\n",
       "  </thead>\n",
       "  <tbody>\n",
       "    <tr>\n",
       "      <th>0</th>\n",
       "      <td>Петров</td>\n",
       "      <td>513</td>\n",
       "      <td>23.05.1967</td>\n",
       "      <td>3</td>\n",
       "      <td>4</td>\n",
       "      <td>2</td>\n",
       "    </tr>\n",
       "    <tr>\n",
       "      <th>1</th>\n",
       "      <td>Васильев</td>\n",
       "      <td>312</td>\n",
       "      <td>18.11.1965</td>\n",
       "      <td>3</td>\n",
       "      <td>2</td>\n",
       "      <td>2</td>\n",
       "    </tr>\n",
       "    <tr>\n",
       "      <th>2</th>\n",
       "      <td>Николаев</td>\n",
       "      <td>313</td>\n",
       "      <td>23.01.1965</td>\n",
       "      <td>2</td>\n",
       "      <td>3</td>\n",
       "      <td>4</td>\n",
       "    </tr>\n",
       "  </tbody>\n",
       "</table>\n",
       "</div>"
      ],
      "text/plain": [
       "        ФИО  Группа Дата_рождения  Оценка_1  Оценка_2  Оценка_3\n",
       "0    Петров     513    23.05.1967         3         4         2\n",
       "1  Васильев     312    18.11.1965         3         2         2\n",
       "2  Николаев     313    23.01.1965         2         3         4"
      ]
     },
     "execution_count": 65,
     "metadata": {},
     "output_type": "execute_result"
    }
   ],
   "source": [
    "frame"
   ]
  },
  {
   "cell_type": "markdown",
   "metadata": {},
   "source": [
    "Видно, что новая строка на самом деле во фрейм не добавилась.   \n",
    "В ячейке выше добавление было выполнено не в сам фрейм, а в его копию.   \n",
    "Чтобы изменение коснулось самого фрейма, можно сделать переприсваивание."
   ]
  },
  {
   "cell_type": "code",
   "execution_count": 66,
   "metadata": {
    "collapsed": true
   },
   "outputs": [],
   "source": [
    "frame = frame.append(new_line, ignore_index=True)"
   ]
  },
  {
   "cell_type": "code",
   "execution_count": 67,
   "metadata": {},
   "outputs": [
    {
     "data": {
      "text/html": [
       "<div>\n",
       "<style>\n",
       "    .dataframe thead tr:only-child th {\n",
       "        text-align: right;\n",
       "    }\n",
       "\n",
       "    .dataframe thead th {\n",
       "        text-align: left;\n",
       "    }\n",
       "\n",
       "    .dataframe tbody tr th {\n",
       "        vertical-align: top;\n",
       "    }\n",
       "</style>\n",
       "<table border=\"1\" class=\"dataframe\">\n",
       "  <thead>\n",
       "    <tr style=\"text-align: right;\">\n",
       "      <th></th>\n",
       "      <th>ФИО</th>\n",
       "      <th>Группа</th>\n",
       "      <th>Дата_рождения</th>\n",
       "      <th>Оценка_1</th>\n",
       "      <th>Оценка_2</th>\n",
       "      <th>Оценка_3</th>\n",
       "    </tr>\n",
       "  </thead>\n",
       "  <tbody>\n",
       "    <tr>\n",
       "      <th>0</th>\n",
       "      <td>Петров</td>\n",
       "      <td>513.0</td>\n",
       "      <td>23.05.1967</td>\n",
       "      <td>3.0</td>\n",
       "      <td>4.0</td>\n",
       "      <td>2.0</td>\n",
       "    </tr>\n",
       "    <tr>\n",
       "      <th>1</th>\n",
       "      <td>Васильев</td>\n",
       "      <td>312.0</td>\n",
       "      <td>18.11.1965</td>\n",
       "      <td>3.0</td>\n",
       "      <td>2.0</td>\n",
       "      <td>2.0</td>\n",
       "    </tr>\n",
       "    <tr>\n",
       "      <th>2</th>\n",
       "      <td>Николаев</td>\n",
       "      <td>313.0</td>\n",
       "      <td>23.01.1965</td>\n",
       "      <td>2.0</td>\n",
       "      <td>3.0</td>\n",
       "      <td>4.0</td>\n",
       "    </tr>\n",
       "    <tr>\n",
       "      <th>3</th>\n",
       "      <td>Ловцов</td>\n",
       "      <td>NaN</td>\n",
       "      <td>28.10.1965</td>\n",
       "      <td>NaN</td>\n",
       "      <td>NaN</td>\n",
       "      <td>NaN</td>\n",
       "    </tr>\n",
       "  </tbody>\n",
       "</table>\n",
       "</div>"
      ],
      "text/plain": [
       "        ФИО  Группа Дата_рождения  Оценка_1  Оценка_2  Оценка_3\n",
       "0    Петров   513.0    23.05.1967       3.0       4.0       2.0\n",
       "1  Васильев   312.0    18.11.1965       3.0       2.0       2.0\n",
       "2  Николаев   313.0    23.01.1965       2.0       3.0       4.0\n",
       "3    Ловцов     NaN    28.10.1965       NaN       NaN       NaN"
      ]
     },
     "execution_count": 67,
     "metadata": {},
     "output_type": "execute_result"
    }
   ],
   "source": [
    "frame"
   ]
  },
  {
   "cell_type": "code",
   "execution_count": 68,
   "metadata": {},
   "outputs": [
    {
     "data": {
      "text/html": [
       "<div>\n",
       "<style>\n",
       "    .dataframe thead tr:only-child th {\n",
       "        text-align: right;\n",
       "    }\n",
       "\n",
       "    .dataframe thead th {\n",
       "        text-align: left;\n",
       "    }\n",
       "\n",
       "    .dataframe tbody tr th {\n",
       "        vertical-align: top;\n",
       "    }\n",
       "</style>\n",
       "<table border=\"1\" class=\"dataframe\">\n",
       "  <thead>\n",
       "    <tr style=\"text-align: right;\">\n",
       "      <th></th>\n",
       "      <th>ФИО</th>\n",
       "      <th>Группа</th>\n",
       "      <th>Дата_рождения</th>\n",
       "      <th>Оценка_1</th>\n",
       "      <th>Оценка_2</th>\n",
       "      <th>Оценка_3</th>\n",
       "      <th>Семейное положение</th>\n",
       "    </tr>\n",
       "  </thead>\n",
       "  <tbody>\n",
       "    <tr>\n",
       "      <th>0</th>\n",
       "      <td>Петров</td>\n",
       "      <td>513.0</td>\n",
       "      <td>23.05.1967</td>\n",
       "      <td>3.0</td>\n",
       "      <td>4.0</td>\n",
       "      <td>2.0</td>\n",
       "      <td>False</td>\n",
       "    </tr>\n",
       "    <tr>\n",
       "      <th>1</th>\n",
       "      <td>Васильев</td>\n",
       "      <td>312.0</td>\n",
       "      <td>18.11.1965</td>\n",
       "      <td>3.0</td>\n",
       "      <td>2.0</td>\n",
       "      <td>2.0</td>\n",
       "      <td>False</td>\n",
       "    </tr>\n",
       "    <tr>\n",
       "      <th>2</th>\n",
       "      <td>Николаев</td>\n",
       "      <td>313.0</td>\n",
       "      <td>23.01.1965</td>\n",
       "      <td>2.0</td>\n",
       "      <td>3.0</td>\n",
       "      <td>4.0</td>\n",
       "      <td>True</td>\n",
       "    </tr>\n",
       "    <tr>\n",
       "      <th>3</th>\n",
       "      <td>Ловцов</td>\n",
       "      <td>NaN</td>\n",
       "      <td>28.10.1965</td>\n",
       "      <td>NaN</td>\n",
       "      <td>NaN</td>\n",
       "      <td>NaN</td>\n",
       "      <td>True</td>\n",
       "    </tr>\n",
       "  </tbody>\n",
       "</table>\n",
       "</div>"
      ],
      "text/plain": [
       "        ФИО  Группа Дата_рождения  Оценка_1  Оценка_2  Оценка_3  \\\n",
       "0    Петров   513.0    23.05.1967       3.0       4.0       2.0   \n",
       "1  Васильев   312.0    18.11.1965       3.0       2.0       2.0   \n",
       "2  Николаев   313.0    23.01.1965       2.0       3.0       4.0   \n",
       "3    Ловцов     NaN    28.10.1965       NaN       NaN       NaN   \n",
       "\n",
       "   Семейное положение  \n",
       "0               False  \n",
       "1               False  \n",
       "2                True  \n",
       "3                True  "
      ]
     },
     "execution_count": 68,
     "metadata": {},
     "output_type": "execute_result"
    }
   ],
   "source": [
    "# Создание нового столбца и заполнение его значениями (по аналогии со словарем: задание значения новому ключу)\n",
    "frame['Семейное положение'] = [False]*2 + [True]*2\n",
    "frame"
   ]
  },
  {
   "cell_type": "code",
   "execution_count": 69,
   "metadata": {},
   "outputs": [
    {
     "data": {
      "text/html": [
       "<div>\n",
       "<style>\n",
       "    .dataframe thead tr:only-child th {\n",
       "        text-align: right;\n",
       "    }\n",
       "\n",
       "    .dataframe thead th {\n",
       "        text-align: left;\n",
       "    }\n",
       "\n",
       "    .dataframe tbody tr th {\n",
       "        vertical-align: top;\n",
       "    }\n",
       "</style>\n",
       "<table border=\"1\" class=\"dataframe\">\n",
       "  <thead>\n",
       "    <tr style=\"text-align: right;\">\n",
       "      <th></th>\n",
       "      <th>ФИО</th>\n",
       "      <th>Группа</th>\n",
       "      <th>Дата_рождения</th>\n",
       "      <th>Оценка_1</th>\n",
       "      <th>Оценка_2</th>\n",
       "      <th>Оценка_3</th>\n",
       "      <th>Семейное положение</th>\n",
       "    </tr>\n",
       "  </thead>\n",
       "  <tbody>\n",
       "    <tr>\n",
       "      <th>0</th>\n",
       "      <td>Петров</td>\n",
       "      <td>513.0</td>\n",
       "      <td>23.05.1967</td>\n",
       "      <td>3.0</td>\n",
       "      <td>4.0</td>\n",
       "      <td>2.0</td>\n",
       "      <td>False</td>\n",
       "    </tr>\n",
       "    <tr>\n",
       "      <th>3</th>\n",
       "      <td>Ловцов</td>\n",
       "      <td>NaN</td>\n",
       "      <td>28.10.1965</td>\n",
       "      <td>NaN</td>\n",
       "      <td>NaN</td>\n",
       "      <td>NaN</td>\n",
       "      <td>True</td>\n",
       "    </tr>\n",
       "  </tbody>\n",
       "</table>\n",
       "</div>"
      ],
      "text/plain": [
       "      ФИО  Группа Дата_рождения  Оценка_1  Оценка_2  Оценка_3  \\\n",
       "0  Петров   513.0    23.05.1967       3.0       4.0       2.0   \n",
       "3  Ловцов     NaN    28.10.1965       NaN       NaN       NaN   \n",
       "\n",
       "   Семейное положение  \n",
       "0               False  \n",
       "3                True  "
      ]
     },
     "execution_count": 69,
     "metadata": {},
     "output_type": "execute_result"
    }
   ],
   "source": [
    "# Удаление строк с номерами 1 и 2\n",
    "# То, что удаляются именно строки, а не столбцы, определяется заданием параметра axis=0\n",
    "frame.drop([1,2], axis=0)"
   ]
  },
  {
   "cell_type": "code",
   "execution_count": 70,
   "metadata": {},
   "outputs": [
    {
     "data": {
      "text/html": [
       "<div>\n",
       "<style>\n",
       "    .dataframe thead tr:only-child th {\n",
       "        text-align: right;\n",
       "    }\n",
       "\n",
       "    .dataframe thead th {\n",
       "        text-align: left;\n",
       "    }\n",
       "\n",
       "    .dataframe tbody tr th {\n",
       "        vertical-align: top;\n",
       "    }\n",
       "</style>\n",
       "<table border=\"1\" class=\"dataframe\">\n",
       "  <thead>\n",
       "    <tr style=\"text-align: right;\">\n",
       "      <th></th>\n",
       "      <th>ФИО</th>\n",
       "      <th>Группа</th>\n",
       "      <th>Дата_рождения</th>\n",
       "      <th>Оценка_1</th>\n",
       "      <th>Оценка_2</th>\n",
       "      <th>Оценка_3</th>\n",
       "      <th>Семейное положение</th>\n",
       "    </tr>\n",
       "  </thead>\n",
       "  <tbody>\n",
       "    <tr>\n",
       "      <th>0</th>\n",
       "      <td>Петров</td>\n",
       "      <td>513.0</td>\n",
       "      <td>23.05.1967</td>\n",
       "      <td>3.0</td>\n",
       "      <td>4.0</td>\n",
       "      <td>2.0</td>\n",
       "      <td>False</td>\n",
       "    </tr>\n",
       "    <tr>\n",
       "      <th>1</th>\n",
       "      <td>Васильев</td>\n",
       "      <td>312.0</td>\n",
       "      <td>18.11.1965</td>\n",
       "      <td>3.0</td>\n",
       "      <td>2.0</td>\n",
       "      <td>2.0</td>\n",
       "      <td>False</td>\n",
       "    </tr>\n",
       "    <tr>\n",
       "      <th>2</th>\n",
       "      <td>Николаев</td>\n",
       "      <td>313.0</td>\n",
       "      <td>23.01.1965</td>\n",
       "      <td>2.0</td>\n",
       "      <td>3.0</td>\n",
       "      <td>4.0</td>\n",
       "      <td>True</td>\n",
       "    </tr>\n",
       "    <tr>\n",
       "      <th>3</th>\n",
       "      <td>Ловцов</td>\n",
       "      <td>NaN</td>\n",
       "      <td>28.10.1965</td>\n",
       "      <td>NaN</td>\n",
       "      <td>NaN</td>\n",
       "      <td>NaN</td>\n",
       "      <td>True</td>\n",
       "    </tr>\n",
       "  </tbody>\n",
       "</table>\n",
       "</div>"
      ],
      "text/plain": [
       "        ФИО  Группа Дата_рождения  Оценка_1  Оценка_2  Оценка_3  \\\n",
       "0    Петров   513.0    23.05.1967       3.0       4.0       2.0   \n",
       "1  Васильев   312.0    18.11.1965       3.0       2.0       2.0   \n",
       "2  Николаев   313.0    23.01.1965       2.0       3.0       4.0   \n",
       "3    Ловцов     NaN    28.10.1965       NaN       NaN       NaN   \n",
       "\n",
       "   Семейное положение  \n",
       "0               False  \n",
       "1               False  \n",
       "2                True  \n",
       "3                True  "
      ]
     },
     "execution_count": 70,
     "metadata": {},
     "output_type": "execute_result"
    }
   ],
   "source": [
    "frame"
   ]
  },
  {
   "cell_type": "markdown",
   "metadata": {},
   "source": [
    "Видно, что удаление строк также произошло не в самом фрейме, а в его копии.   \n",
    "Чтобы изменение было зафиксировано в самом фрейме, можно определить параметр inplace=True.    "
   ]
  },
  {
   "cell_type": "code",
   "execution_count": 71,
   "metadata": {
    "collapsed": true
   },
   "outputs": [],
   "source": [
    "frame.drop([1,2], axis=0, inplace=True)"
   ]
  },
  {
   "cell_type": "code",
   "execution_count": 72,
   "metadata": {},
   "outputs": [
    {
     "data": {
      "text/html": [
       "<div>\n",
       "<style>\n",
       "    .dataframe thead tr:only-child th {\n",
       "        text-align: right;\n",
       "    }\n",
       "\n",
       "    .dataframe thead th {\n",
       "        text-align: left;\n",
       "    }\n",
       "\n",
       "    .dataframe tbody tr th {\n",
       "        vertical-align: top;\n",
       "    }\n",
       "</style>\n",
       "<table border=\"1\" class=\"dataframe\">\n",
       "  <thead>\n",
       "    <tr style=\"text-align: right;\">\n",
       "      <th></th>\n",
       "      <th>ФИО</th>\n",
       "      <th>Группа</th>\n",
       "      <th>Дата_рождения</th>\n",
       "      <th>Оценка_1</th>\n",
       "      <th>Оценка_2</th>\n",
       "      <th>Оценка_3</th>\n",
       "      <th>Семейное положение</th>\n",
       "    </tr>\n",
       "  </thead>\n",
       "  <tbody>\n",
       "    <tr>\n",
       "      <th>0</th>\n",
       "      <td>Петров</td>\n",
       "      <td>513.0</td>\n",
       "      <td>23.05.1967</td>\n",
       "      <td>3.0</td>\n",
       "      <td>4.0</td>\n",
       "      <td>2.0</td>\n",
       "      <td>False</td>\n",
       "    </tr>\n",
       "    <tr>\n",
       "      <th>3</th>\n",
       "      <td>Ловцов</td>\n",
       "      <td>NaN</td>\n",
       "      <td>28.10.1965</td>\n",
       "      <td>NaN</td>\n",
       "      <td>NaN</td>\n",
       "      <td>NaN</td>\n",
       "      <td>True</td>\n",
       "    </tr>\n",
       "  </tbody>\n",
       "</table>\n",
       "</div>"
      ],
      "text/plain": [
       "      ФИО  Группа Дата_рождения  Оценка_1  Оценка_2  Оценка_3  \\\n",
       "0  Петров   513.0    23.05.1967       3.0       4.0       2.0   \n",
       "3  Ловцов     NaN    28.10.1965       NaN       NaN       NaN   \n",
       "\n",
       "   Семейное положение  \n",
       "0               False  \n",
       "3                True  "
      ]
     },
     "execution_count": 72,
     "metadata": {},
     "output_type": "execute_result"
    }
   ],
   "source": [
    "frame"
   ]
  },
  {
   "cell_type": "code",
   "execution_count": 73,
   "metadata": {
    "collapsed": true
   },
   "outputs": [],
   "source": [
    "# Удаление столбца. Указывается параметр axis=1\n",
    "# Для того, чтобы изменение произошло в самом фрейме, а не в его копии, - также использовать inplace=True\n",
    "frame.drop('Семейное положение', axis=1, inplace=True)"
   ]
  },
  {
   "cell_type": "code",
   "execution_count": 74,
   "metadata": {},
   "outputs": [
    {
     "data": {
      "text/html": [
       "<div>\n",
       "<style>\n",
       "    .dataframe thead tr:only-child th {\n",
       "        text-align: right;\n",
       "    }\n",
       "\n",
       "    .dataframe thead th {\n",
       "        text-align: left;\n",
       "    }\n",
       "\n",
       "    .dataframe tbody tr th {\n",
       "        vertical-align: top;\n",
       "    }\n",
       "</style>\n",
       "<table border=\"1\" class=\"dataframe\">\n",
       "  <thead>\n",
       "    <tr style=\"text-align: right;\">\n",
       "      <th></th>\n",
       "      <th>ФИО</th>\n",
       "      <th>Группа</th>\n",
       "      <th>Дата_рождения</th>\n",
       "      <th>Оценка_1</th>\n",
       "      <th>Оценка_2</th>\n",
       "      <th>Оценка_3</th>\n",
       "    </tr>\n",
       "  </thead>\n",
       "  <tbody>\n",
       "    <tr>\n",
       "      <th>0</th>\n",
       "      <td>Петров</td>\n",
       "      <td>513.0</td>\n",
       "      <td>23.05.1967</td>\n",
       "      <td>3.0</td>\n",
       "      <td>4.0</td>\n",
       "      <td>2.0</td>\n",
       "    </tr>\n",
       "    <tr>\n",
       "      <th>3</th>\n",
       "      <td>Ловцов</td>\n",
       "      <td>NaN</td>\n",
       "      <td>28.10.1965</td>\n",
       "      <td>NaN</td>\n",
       "      <td>NaN</td>\n",
       "      <td>NaN</td>\n",
       "    </tr>\n",
       "  </tbody>\n",
       "</table>\n",
       "</div>"
      ],
      "text/plain": [
       "      ФИО  Группа Дата_рождения  Оценка_1  Оценка_2  Оценка_3\n",
       "0  Петров   513.0    23.05.1967       3.0       4.0       2.0\n",
       "3  Ловцов     NaN    28.10.1965       NaN       NaN       NaN"
      ]
     },
     "execution_count": 74,
     "metadata": {},
     "output_type": "execute_result"
    }
   ],
   "source": [
    "frame"
   ]
  },
  {
   "cell_type": "markdown",
   "metadata": {
    "collapsed": true
   },
   "source": [
    "### Запись данных из DataFrame во внешний файл:\n",
    "##### <имя фрейма>.to_csv(<путь к файлу>, header = <True/False>, sep = <разделитель>)"
   ]
  },
  {
   "cell_type": "code",
   "execution_count": null,
   "metadata": {
    "collapsed": true
   },
   "outputs": [],
   "source": [
    "frame.to_csv('C:/Users/Acer1/Desktop/output_file.txt', sep=';', header=True, index=None)\n",
    "# Задание параметра index=None  - не выводить в файл индексы"
   ]
  },
  {
   "cell_type": "markdown",
   "metadata": {},
   "source": [
    "#### Задание.\n",
    "- Создайте самостоятельно файл input_file.txt и выполните все описанные выше операции (считывание данных из файла во фрейм, манипуляции со строками и столбцами фрейма, запись данных из фрейма во внешний файл output_file.txt);\n",
    "- организуйте считывание данных из вновь созданного файла output_file.txt во фрейм;   \n",
    "- с помощью атрибута dtypes получите информацию о типах данных в столбцах фрейма;\n",
    "- выведите на экран содержимое фрейма;\n",
    "- с помощью функции info() (<имя фрейма>.info()) выведите на экран и изучите сводную информацию о фрейме."
   ]
  },
  {
   "cell_type": "markdown",
   "metadata": {
    "collapsed": true
   },
   "source": [
    "### Изменение типа столбцов - \n",
    "                                    метод apply   \n",
    "Работает также не inplace (изменяет копию фрейма), поэтому для изменения самого фрейма нужно создавать изменяемый объект заново."
   ]
  },
  {
   "cell_type": "code",
   "execution_count": 75,
   "metadata": {
    "collapsed": true
   },
   "outputs": [],
   "source": [
    "# Пробразование столбца с датами к типу datetime. После этого можно будет выполнять любые операции с датами\n",
    "frame.Дата_рождения = frame.Дата_рождения.apply(pd.to_datetime)\n",
    "# frame.Группа = frame.Группа.apply(pd.to_int)"
   ]
  },
  {
   "cell_type": "code",
   "execution_count": 76,
   "metadata": {},
   "outputs": [
    {
     "data": {
      "text/plain": [
       "ФИО                      object\n",
       "Группа                  float64\n",
       "Дата_рождения    datetime64[ns]\n",
       "Оценка_1                float64\n",
       "Оценка_2                float64\n",
       "Оценка_3                float64\n",
       "dtype: object"
      ]
     },
     "execution_count": 76,
     "metadata": {},
     "output_type": "execute_result"
    }
   ],
   "source": [
    "frame.dtypes"
   ]
  },
  {
   "cell_type": "markdown",
   "metadata": {
    "collapsed": true
   },
   "source": [
    "### Замена пропущенных значений - \n",
    "                                    метод fillna   \n",
    "Работает также не inplace (изменяет копию фрейма), поэтому нужно указать inplace=True\n",
    "##### <имя фреййма>.fillna(<параметры>) - замена пропусков на указанное значение во всем фрейме;\n",
    "##### <имя фрейма>.<имя столбца (без кавычек)>.fillna(<параметры>) - замена пропусков только в одном столбце"
   ]
  },
  {
   "cell_type": "code",
   "execution_count": 78,
   "metadata": {},
   "outputs": [],
   "source": [
    "# Добавление еще одной строки с пропущенными значениями\n",
    "new_line = {'ФИО':'Бойко', 'Дата_рождения': pd.datetime(1967,9,21)}\n",
    "frame = frame.append(new_line, ignore_index=True)"
   ]
  },
  {
   "cell_type": "code",
   "execution_count": 79,
   "metadata": {},
   "outputs": [
    {
     "data": {
      "text/html": [
       "<div>\n",
       "<style>\n",
       "    .dataframe thead tr:only-child th {\n",
       "        text-align: right;\n",
       "    }\n",
       "\n",
       "    .dataframe thead th {\n",
       "        text-align: left;\n",
       "    }\n",
       "\n",
       "    .dataframe tbody tr th {\n",
       "        vertical-align: top;\n",
       "    }\n",
       "</style>\n",
       "<table border=\"1\" class=\"dataframe\">\n",
       "  <thead>\n",
       "    <tr style=\"text-align: right;\">\n",
       "      <th></th>\n",
       "      <th>ФИО</th>\n",
       "      <th>Группа</th>\n",
       "      <th>Дата_рождения</th>\n",
       "      <th>Оценка_1</th>\n",
       "      <th>Оценка_2</th>\n",
       "      <th>Оценка_3</th>\n",
       "    </tr>\n",
       "  </thead>\n",
       "  <tbody>\n",
       "    <tr>\n",
       "      <th>0</th>\n",
       "      <td>Петров</td>\n",
       "      <td>513.0</td>\n",
       "      <td>1967-05-23</td>\n",
       "      <td>3.0</td>\n",
       "      <td>4.0</td>\n",
       "      <td>2.0</td>\n",
       "    </tr>\n",
       "    <tr>\n",
       "      <th>1</th>\n",
       "      <td>Ловцов</td>\n",
       "      <td>NaN</td>\n",
       "      <td>1965-10-28</td>\n",
       "      <td>NaN</td>\n",
       "      <td>NaN</td>\n",
       "      <td>NaN</td>\n",
       "    </tr>\n",
       "    <tr>\n",
       "      <th>2</th>\n",
       "      <td>Бойко</td>\n",
       "      <td>NaN</td>\n",
       "      <td>1967-09-21</td>\n",
       "      <td>NaN</td>\n",
       "      <td>NaN</td>\n",
       "      <td>NaN</td>\n",
       "    </tr>\n",
       "  </tbody>\n",
       "</table>\n",
       "</div>"
      ],
      "text/plain": [
       "      ФИО  Группа Дата_рождения  Оценка_1  Оценка_2  Оценка_3\n",
       "0  Петров   513.0    1967-05-23       3.0       4.0       2.0\n",
       "1  Ловцов     NaN    1965-10-28       NaN       NaN       NaN\n",
       "2   Бойко     NaN    1967-09-21       NaN       NaN       NaN"
      ]
     },
     "execution_count": 79,
     "metadata": {},
     "output_type": "execute_result"
    }
   ],
   "source": [
    "frame"
   ]
  },
  {
   "cell_type": "code",
   "execution_count": 80,
   "metadata": {},
   "outputs": [],
   "source": [
    "# Замена ропущенных значений в столбце \"Группа\"\n",
    "frame.Группа.fillna('-', inplace=True)"
   ]
  },
  {
   "cell_type": "code",
   "execution_count": 81,
   "metadata": {},
   "outputs": [
    {
     "data": {
      "text/html": [
       "<div>\n",
       "<style>\n",
       "    .dataframe thead tr:only-child th {\n",
       "        text-align: right;\n",
       "    }\n",
       "\n",
       "    .dataframe thead th {\n",
       "        text-align: left;\n",
       "    }\n",
       "\n",
       "    .dataframe tbody tr th {\n",
       "        vertical-align: top;\n",
       "    }\n",
       "</style>\n",
       "<table border=\"1\" class=\"dataframe\">\n",
       "  <thead>\n",
       "    <tr style=\"text-align: right;\">\n",
       "      <th></th>\n",
       "      <th>ФИО</th>\n",
       "      <th>Группа</th>\n",
       "      <th>Дата_рождения</th>\n",
       "      <th>Оценка_1</th>\n",
       "      <th>Оценка_2</th>\n",
       "      <th>Оценка_3</th>\n",
       "    </tr>\n",
       "  </thead>\n",
       "  <tbody>\n",
       "    <tr>\n",
       "      <th>0</th>\n",
       "      <td>Петров</td>\n",
       "      <td>513</td>\n",
       "      <td>1967-05-23</td>\n",
       "      <td>3.0</td>\n",
       "      <td>4.0</td>\n",
       "      <td>2.0</td>\n",
       "    </tr>\n",
       "    <tr>\n",
       "      <th>1</th>\n",
       "      <td>Ловцов</td>\n",
       "      <td>-</td>\n",
       "      <td>1965-10-28</td>\n",
       "      <td>NaN</td>\n",
       "      <td>NaN</td>\n",
       "      <td>NaN</td>\n",
       "    </tr>\n",
       "    <tr>\n",
       "      <th>2</th>\n",
       "      <td>Бойко</td>\n",
       "      <td>-</td>\n",
       "      <td>1967-09-21</td>\n",
       "      <td>NaN</td>\n",
       "      <td>NaN</td>\n",
       "      <td>NaN</td>\n",
       "    </tr>\n",
       "  </tbody>\n",
       "</table>\n",
       "</div>"
      ],
      "text/plain": [
       "      ФИО Группа Дата_рождения  Оценка_1  Оценка_2  Оценка_3\n",
       "0  Петров    513    1967-05-23       3.0       4.0       2.0\n",
       "1  Ловцов      -    1965-10-28       NaN       NaN       NaN\n",
       "2   Бойко      -    1967-09-21       NaN       NaN       NaN"
      ]
     },
     "execution_count": 81,
     "metadata": {},
     "output_type": "execute_result"
    }
   ],
   "source": [
    "frame"
   ]
  },
  {
   "cell_type": "code",
   "execution_count": 82,
   "metadata": {
    "collapsed": true
   },
   "outputs": [],
   "source": [
    "# Замена пропущенных значений во всем фрейме\n",
    "frame.fillna(0, inplace=True)"
   ]
  },
  {
   "cell_type": "code",
   "execution_count": 83,
   "metadata": {},
   "outputs": [
    {
     "data": {
      "text/html": [
       "<div>\n",
       "<style>\n",
       "    .dataframe thead tr:only-child th {\n",
       "        text-align: right;\n",
       "    }\n",
       "\n",
       "    .dataframe thead th {\n",
       "        text-align: left;\n",
       "    }\n",
       "\n",
       "    .dataframe tbody tr th {\n",
       "        vertical-align: top;\n",
       "    }\n",
       "</style>\n",
       "<table border=\"1\" class=\"dataframe\">\n",
       "  <thead>\n",
       "    <tr style=\"text-align: right;\">\n",
       "      <th></th>\n",
       "      <th>ФИО</th>\n",
       "      <th>Группа</th>\n",
       "      <th>Дата_рождения</th>\n",
       "      <th>Оценка_1</th>\n",
       "      <th>Оценка_2</th>\n",
       "      <th>Оценка_3</th>\n",
       "    </tr>\n",
       "  </thead>\n",
       "  <tbody>\n",
       "    <tr>\n",
       "      <th>0</th>\n",
       "      <td>Петров</td>\n",
       "      <td>513</td>\n",
       "      <td>1967-05-23</td>\n",
       "      <td>3.0</td>\n",
       "      <td>4.0</td>\n",
       "      <td>2.0</td>\n",
       "    </tr>\n",
       "    <tr>\n",
       "      <th>1</th>\n",
       "      <td>Ловцов</td>\n",
       "      <td>-</td>\n",
       "      <td>1965-10-28</td>\n",
       "      <td>0.0</td>\n",
       "      <td>0.0</td>\n",
       "      <td>0.0</td>\n",
       "    </tr>\n",
       "    <tr>\n",
       "      <th>2</th>\n",
       "      <td>Бойко</td>\n",
       "      <td>-</td>\n",
       "      <td>1967-09-21</td>\n",
       "      <td>0.0</td>\n",
       "      <td>0.0</td>\n",
       "      <td>0.0</td>\n",
       "    </tr>\n",
       "  </tbody>\n",
       "</table>\n",
       "</div>"
      ],
      "text/plain": [
       "      ФИО Группа Дата_рождения  Оценка_1  Оценка_2  Оценка_3\n",
       "0  Петров    513    1967-05-23       3.0       4.0       2.0\n",
       "1  Ловцов      -    1965-10-28       0.0       0.0       0.0\n",
       "2   Бойко      -    1967-09-21       0.0       0.0       0.0"
      ]
     },
     "execution_count": 83,
     "metadata": {},
     "output_type": "execute_result"
    }
   ],
   "source": [
    "frame"
   ]
  },
  {
   "cell_type": "markdown",
   "metadata": {
    "collapsed": true
   },
   "source": [
    "### Вывод отдельных фрагментов фрейма\n",
    "#### Вывод одного столбца:\n",
    "#####  столбцом    -   <имя фрейма>.<имя столбца (без кавычек)>);\n",
    "#####  в виде таблицы   -    <имя фрейма>[[<имя столбца (c кавычками)>]]"
   ]
  },
  {
   "cell_type": "code",
   "execution_count": 42,
   "metadata": {},
   "outputs": [
    {
     "data": {
      "text/plain": [
       "0    Петров\n",
       "1    Ловцов\n",
       "2     Бойко\n",
       "Name: ФИО, dtype: object"
      ]
     },
     "execution_count": 42,
     "metadata": {},
     "output_type": "execute_result"
    }
   ],
   "source": [
    "frame.ФИО"
   ]
  },
  {
   "cell_type": "code",
   "execution_count": 43,
   "metadata": {},
   "outputs": [
    {
     "data": {
      "text/html": [
       "<div>\n",
       "<style>\n",
       "    .dataframe thead tr:only-child th {\n",
       "        text-align: right;\n",
       "    }\n",
       "\n",
       "    .dataframe thead th {\n",
       "        text-align: left;\n",
       "    }\n",
       "\n",
       "    .dataframe tbody tr th {\n",
       "        vertical-align: top;\n",
       "    }\n",
       "</style>\n",
       "<table border=\"1\" class=\"dataframe\">\n",
       "  <thead>\n",
       "    <tr style=\"text-align: right;\">\n",
       "      <th></th>\n",
       "      <th>ФИО</th>\n",
       "    </tr>\n",
       "  </thead>\n",
       "  <tbody>\n",
       "    <tr>\n",
       "      <th>0</th>\n",
       "      <td>Петров</td>\n",
       "    </tr>\n",
       "    <tr>\n",
       "      <th>1</th>\n",
       "      <td>Ловцов</td>\n",
       "    </tr>\n",
       "    <tr>\n",
       "      <th>2</th>\n",
       "      <td>Бойко</td>\n",
       "    </tr>\n",
       "  </tbody>\n",
       "</table>\n",
       "</div>"
      ],
      "text/plain": [
       "      ФИО\n",
       "0  Петров\n",
       "1  Ловцов\n",
       "2   Бойко"
      ]
     },
     "execution_count": 43,
     "metadata": {},
     "output_type": "execute_result"
    }
   ],
   "source": [
    "frame[['ФИО']]"
   ]
  },
  {
   "cell_type": "markdown",
   "metadata": {
    "collapsed": true
   },
   "source": [
    "#### Вывод нескольких столбцов:\n",
    "#####    <имя фрейма>[[<имя столбца1, имя столбца2, ... >]]"
   ]
  },
  {
   "cell_type": "code",
   "execution_count": 44,
   "metadata": {},
   "outputs": [
    {
     "data": {
      "text/html": [
       "<div>\n",
       "<style>\n",
       "    .dataframe thead tr:only-child th {\n",
       "        text-align: right;\n",
       "    }\n",
       "\n",
       "    .dataframe thead th {\n",
       "        text-align: left;\n",
       "    }\n",
       "\n",
       "    .dataframe tbody tr th {\n",
       "        vertical-align: top;\n",
       "    }\n",
       "</style>\n",
       "<table border=\"1\" class=\"dataframe\">\n",
       "  <thead>\n",
       "    <tr style=\"text-align: right;\">\n",
       "      <th></th>\n",
       "      <th>ФИО</th>\n",
       "      <th>Оценка_1</th>\n",
       "      <th>Оценка_2</th>\n",
       "      <th>Оценка_3</th>\n",
       "    </tr>\n",
       "  </thead>\n",
       "  <tbody>\n",
       "    <tr>\n",
       "      <th>0</th>\n",
       "      <td>Петров</td>\n",
       "      <td>3.0</td>\n",
       "      <td>4.0</td>\n",
       "      <td>2.0</td>\n",
       "    </tr>\n",
       "    <tr>\n",
       "      <th>1</th>\n",
       "      <td>Ловцов</td>\n",
       "      <td>0.0</td>\n",
       "      <td>0.0</td>\n",
       "      <td>0.0</td>\n",
       "    </tr>\n",
       "    <tr>\n",
       "      <th>2</th>\n",
       "      <td>Бойко</td>\n",
       "      <td>0.0</td>\n",
       "      <td>0.0</td>\n",
       "      <td>0.0</td>\n",
       "    </tr>\n",
       "  </tbody>\n",
       "</table>\n",
       "</div>"
      ],
      "text/plain": [
       "      ФИО  Оценка_1  Оценка_2  Оценка_3\n",
       "0  Петров       3.0       4.0       2.0\n",
       "1  Ловцов       0.0       0.0       0.0\n",
       "2   Бойко       0.0       0.0       0.0"
      ]
     },
     "execution_count": 44,
     "metadata": {},
     "output_type": "execute_result"
    }
   ],
   "source": [
    "frame[['ФИО', 'Оценка_1', 'Оценка_2', 'Оценка_3']]"
   ]
  },
  {
   "cell_type": "markdown",
   "metadata": {
    "collapsed": true
   },
   "source": [
    "#### Вывод нескольких строк:\n",
    "#####   Вывод первых k строк -    <имя фрейма>.head(k)    или    <имя фрейма>[:k]\n",
    "#####  Вывод последних k строк - <имя фрейма>[-k:]\n",
    "##### Вывод нескольких строк -  <имя фрейма>[<номер первой строки>, <номер строки, след. за последней (не вкл.)>, <шаг>]"
   ]
  },
  {
   "cell_type": "code",
   "execution_count": 45,
   "metadata": {},
   "outputs": [
    {
     "data": {
      "text/html": [
       "<div>\n",
       "<style>\n",
       "    .dataframe thead tr:only-child th {\n",
       "        text-align: right;\n",
       "    }\n",
       "\n",
       "    .dataframe thead th {\n",
       "        text-align: left;\n",
       "    }\n",
       "\n",
       "    .dataframe tbody tr th {\n",
       "        vertical-align: top;\n",
       "    }\n",
       "</style>\n",
       "<table border=\"1\" class=\"dataframe\">\n",
       "  <thead>\n",
       "    <tr style=\"text-align: right;\">\n",
       "      <th></th>\n",
       "      <th>ФИО</th>\n",
       "      <th>Группа</th>\n",
       "      <th>Дата_рождения</th>\n",
       "      <th>Оценка_1</th>\n",
       "      <th>Оценка_2</th>\n",
       "      <th>Оценка_3</th>\n",
       "    </tr>\n",
       "  </thead>\n",
       "  <tbody>\n",
       "    <tr>\n",
       "      <th>0</th>\n",
       "      <td>Петров</td>\n",
       "      <td>513</td>\n",
       "      <td>1967-05-23 00:00:00</td>\n",
       "      <td>3.0</td>\n",
       "      <td>4.0</td>\n",
       "      <td>2.0</td>\n",
       "    </tr>\n",
       "    <tr>\n",
       "      <th>1</th>\n",
       "      <td>Ловцов</td>\n",
       "      <td>-</td>\n",
       "      <td>1965-10-28 00:00:00</td>\n",
       "      <td>0.0</td>\n",
       "      <td>0.0</td>\n",
       "      <td>0.0</td>\n",
       "    </tr>\n",
       "  </tbody>\n",
       "</table>\n",
       "</div>"
      ],
      "text/plain": [
       "      ФИО Группа        Дата_рождения  Оценка_1  Оценка_2  Оценка_3\n",
       "0  Петров    513  1967-05-23 00:00:00       3.0       4.0       2.0\n",
       "1  Ловцов      -  1965-10-28 00:00:00       0.0       0.0       0.0"
      ]
     },
     "execution_count": 45,
     "metadata": {},
     "output_type": "execute_result"
    }
   ],
   "source": [
    "frame.head(2)"
   ]
  },
  {
   "cell_type": "code",
   "execution_count": 84,
   "metadata": {},
   "outputs": [
    {
     "data": {
      "text/html": [
       "<div>\n",
       "<style>\n",
       "    .dataframe thead tr:only-child th {\n",
       "        text-align: right;\n",
       "    }\n",
       "\n",
       "    .dataframe thead th {\n",
       "        text-align: left;\n",
       "    }\n",
       "\n",
       "    .dataframe tbody tr th {\n",
       "        vertical-align: top;\n",
       "    }\n",
       "</style>\n",
       "<table border=\"1\" class=\"dataframe\">\n",
       "  <thead>\n",
       "    <tr style=\"text-align: right;\">\n",
       "      <th></th>\n",
       "      <th>ФИО</th>\n",
       "      <th>Группа</th>\n",
       "      <th>Дата_рождения</th>\n",
       "      <th>Оценка_1</th>\n",
       "      <th>Оценка_2</th>\n",
       "      <th>Оценка_3</th>\n",
       "    </tr>\n",
       "  </thead>\n",
       "  <tbody>\n",
       "    <tr>\n",
       "      <th>1</th>\n",
       "      <td>Ловцов</td>\n",
       "      <td>-</td>\n",
       "      <td>1965-10-28</td>\n",
       "      <td>0.0</td>\n",
       "      <td>0.0</td>\n",
       "      <td>0.0</td>\n",
       "    </tr>\n",
       "    <tr>\n",
       "      <th>2</th>\n",
       "      <td>Бойко</td>\n",
       "      <td>-</td>\n",
       "      <td>1967-09-21</td>\n",
       "      <td>0.0</td>\n",
       "      <td>0.0</td>\n",
       "      <td>0.0</td>\n",
       "    </tr>\n",
       "  </tbody>\n",
       "</table>\n",
       "</div>"
      ],
      "text/plain": [
       "      ФИО Группа Дата_рождения  Оценка_1  Оценка_2  Оценка_3\n",
       "1  Ловцов      -    1965-10-28       0.0       0.0       0.0\n",
       "2   Бойко      -    1967-09-21       0.0       0.0       0.0"
      ]
     },
     "execution_count": 84,
     "metadata": {},
     "output_type": "execute_result"
    }
   ],
   "source": [
    "frame[-2:]"
   ]
  },
  {
   "cell_type": "code",
   "execution_count": 85,
   "metadata": {},
   "outputs": [
    {
     "data": {
      "text/html": [
       "<div>\n",
       "<style>\n",
       "    .dataframe thead tr:only-child th {\n",
       "        text-align: right;\n",
       "    }\n",
       "\n",
       "    .dataframe thead th {\n",
       "        text-align: left;\n",
       "    }\n",
       "\n",
       "    .dataframe tbody tr th {\n",
       "        vertical-align: top;\n",
       "    }\n",
       "</style>\n",
       "<table border=\"1\" class=\"dataframe\">\n",
       "  <thead>\n",
       "    <tr style=\"text-align: right;\">\n",
       "      <th></th>\n",
       "      <th>ФИО</th>\n",
       "      <th>Группа</th>\n",
       "      <th>Дата_рождения</th>\n",
       "      <th>Оценка_1</th>\n",
       "      <th>Оценка_2</th>\n",
       "      <th>Оценка_3</th>\n",
       "    </tr>\n",
       "  </thead>\n",
       "  <tbody>\n",
       "    <tr>\n",
       "      <th>0</th>\n",
       "      <td>Петров</td>\n",
       "      <td>513</td>\n",
       "      <td>1967-05-23</td>\n",
       "      <td>3.0</td>\n",
       "      <td>4.0</td>\n",
       "      <td>2.0</td>\n",
       "    </tr>\n",
       "    <tr>\n",
       "      <th>2</th>\n",
       "      <td>Бойко</td>\n",
       "      <td>-</td>\n",
       "      <td>1967-09-21</td>\n",
       "      <td>0.0</td>\n",
       "      <td>0.0</td>\n",
       "      <td>0.0</td>\n",
       "    </tr>\n",
       "  </tbody>\n",
       "</table>\n",
       "</div>"
      ],
      "text/plain": [
       "      ФИО Группа Дата_рождения  Оценка_1  Оценка_2  Оценка_3\n",
       "0  Петров    513    1967-05-23       3.0       4.0       2.0\n",
       "2   Бойко      -    1967-09-21       0.0       0.0       0.0"
      ]
     },
     "execution_count": 85,
     "metadata": {},
     "output_type": "execute_result"
    }
   ],
   "source": [
    "# Вывод строк с номерами от 0 до 2 через одну строку\n",
    "frame[0:3:2]"
   ]
  },
  {
   "cell_type": "markdown",
   "metadata": {
    "collapsed": true
   },
   "source": [
    "#### Вывод нескольких строк и столбцов (фрагмента таблицы -\n",
    "                                                                методы loc и iloc.     \n",
    "##### <имя фрейма>. loc[<список номеров строк>, <список имен столбцов (с кавычками)>]\n",
    "##### <имя фрейма>. iloc[<список номеров строк>, <список номеров столбцов>]"
   ]
  },
  {
   "cell_type": "code",
   "execution_count": 54,
   "metadata": {},
   "outputs": [
    {
     "data": {
      "text/html": [
       "<div>\n",
       "<style>\n",
       "    .dataframe thead tr:only-child th {\n",
       "        text-align: right;\n",
       "    }\n",
       "\n",
       "    .dataframe thead th {\n",
       "        text-align: left;\n",
       "    }\n",
       "\n",
       "    .dataframe tbody tr th {\n",
       "        vertical-align: top;\n",
       "    }\n",
       "</style>\n",
       "<table border=\"1\" class=\"dataframe\">\n",
       "  <thead>\n",
       "    <tr style=\"text-align: right;\">\n",
       "      <th></th>\n",
       "      <th>ФИО</th>\n",
       "      <th>Оценка_1</th>\n",
       "    </tr>\n",
       "  </thead>\n",
       "  <tbody>\n",
       "    <tr>\n",
       "      <th>0</th>\n",
       "      <td>Петров</td>\n",
       "      <td>3.0</td>\n",
       "    </tr>\n",
       "    <tr>\n",
       "      <th>2</th>\n",
       "      <td>Бойко</td>\n",
       "      <td>0.0</td>\n",
       "    </tr>\n",
       "  </tbody>\n",
       "</table>\n",
       "</div>"
      ],
      "text/plain": [
       "      ФИО  Оценка_1\n",
       "0  Петров       3.0\n",
       "2   Бойко       0.0"
      ]
     },
     "execution_count": 54,
     "metadata": {},
     "output_type": "execute_result"
    }
   ],
   "source": [
    "frame.loc[[0, 2], ['ФИО', 'Оценка_1']]"
   ]
  },
  {
   "cell_type": "code",
   "execution_count": 56,
   "metadata": {},
   "outputs": [
    {
     "data": {
      "text/html": [
       "<div>\n",
       "<style>\n",
       "    .dataframe thead tr:only-child th {\n",
       "        text-align: right;\n",
       "    }\n",
       "\n",
       "    .dataframe thead th {\n",
       "        text-align: left;\n",
       "    }\n",
       "\n",
       "    .dataframe tbody tr th {\n",
       "        vertical-align: top;\n",
       "    }\n",
       "</style>\n",
       "<table border=\"1\" class=\"dataframe\">\n",
       "  <thead>\n",
       "    <tr style=\"text-align: right;\">\n",
       "      <th></th>\n",
       "      <th>ФИО</th>\n",
       "      <th>Оценка_1</th>\n",
       "    </tr>\n",
       "  </thead>\n",
       "  <tbody>\n",
       "    <tr>\n",
       "      <th>0</th>\n",
       "      <td>Петров</td>\n",
       "      <td>3.0</td>\n",
       "    </tr>\n",
       "    <tr>\n",
       "      <th>2</th>\n",
       "      <td>Бойко</td>\n",
       "      <td>0.0</td>\n",
       "    </tr>\n",
       "  </tbody>\n",
       "</table>\n",
       "</div>"
      ],
      "text/plain": [
       "      ФИО  Оценка_1\n",
       "0  Петров       3.0\n",
       "2   Бойко       0.0"
      ]
     },
     "execution_count": 56,
     "metadata": {},
     "output_type": "execute_result"
    }
   ],
   "source": [
    "frame.iloc[[0, 2], [0, 3]]"
   ]
  },
  {
   "cell_type": "markdown",
   "metadata": {
    "collapsed": true
   },
   "source": [
    "#### Срезы по условию:   \n",
    "##### <имя фрейма>[<логическое выражение>]\n",
    "Будут выведены все строки, удовлетворяющие заданному условию (для которых заданное логическое выражение равно True).    \n",
    "В формировании условия может участвовать один или несколько столбцов.   \n",
    "В формировании выражений используются логические опреации:\n",
    "- | - или\n",
    "- &  - и"
   ]
  },
  {
   "cell_type": "code",
   "execution_count": 86,
   "metadata": {},
   "outputs": [
    {
     "data": {
      "text/html": [
       "<div>\n",
       "<style>\n",
       "    .dataframe thead tr:only-child th {\n",
       "        text-align: right;\n",
       "    }\n",
       "\n",
       "    .dataframe thead th {\n",
       "        text-align: left;\n",
       "    }\n",
       "\n",
       "    .dataframe tbody tr th {\n",
       "        vertical-align: top;\n",
       "    }\n",
       "</style>\n",
       "<table border=\"1\" class=\"dataframe\">\n",
       "  <thead>\n",
       "    <tr style=\"text-align: right;\">\n",
       "      <th></th>\n",
       "      <th>ФИО</th>\n",
       "      <th>Группа</th>\n",
       "      <th>Дата_рождения</th>\n",
       "      <th>Оценка_1</th>\n",
       "      <th>Оценка_2</th>\n",
       "      <th>Оценка_3</th>\n",
       "    </tr>\n",
       "  </thead>\n",
       "  <tbody>\n",
       "    <tr>\n",
       "      <th>0</th>\n",
       "      <td>Петров</td>\n",
       "      <td>513</td>\n",
       "      <td>1967-05-23</td>\n",
       "      <td>3.0</td>\n",
       "      <td>4.0</td>\n",
       "      <td>2.0</td>\n",
       "    </tr>\n",
       "    <tr>\n",
       "      <th>1</th>\n",
       "      <td>Ловцов</td>\n",
       "      <td>-</td>\n",
       "      <td>1965-10-28</td>\n",
       "      <td>0.0</td>\n",
       "      <td>0.0</td>\n",
       "      <td>0.0</td>\n",
       "    </tr>\n",
       "    <tr>\n",
       "      <th>2</th>\n",
       "      <td>Бойко</td>\n",
       "      <td>-</td>\n",
       "      <td>1967-09-21</td>\n",
       "      <td>0.0</td>\n",
       "      <td>0.0</td>\n",
       "      <td>0.0</td>\n",
       "    </tr>\n",
       "  </tbody>\n",
       "</table>\n",
       "</div>"
      ],
      "text/plain": [
       "      ФИО Группа Дата_рождения  Оценка_1  Оценка_2  Оценка_3\n",
       "0  Петров    513    1967-05-23       3.0       4.0       2.0\n",
       "1  Ловцов      -    1965-10-28       0.0       0.0       0.0\n",
       "2   Бойко      -    1967-09-21       0.0       0.0       0.0"
      ]
     },
     "execution_count": 86,
     "metadata": {},
     "output_type": "execute_result"
    }
   ],
   "source": [
    "frame"
   ]
  },
  {
   "cell_type": "code",
   "execution_count": 87,
   "metadata": {},
   "outputs": [
    {
     "data": {
      "text/html": [
       "<div>\n",
       "<style>\n",
       "    .dataframe thead tr:only-child th {\n",
       "        text-align: right;\n",
       "    }\n",
       "\n",
       "    .dataframe thead th {\n",
       "        text-align: left;\n",
       "    }\n",
       "\n",
       "    .dataframe tbody tr th {\n",
       "        vertical-align: top;\n",
       "    }\n",
       "</style>\n",
       "<table border=\"1\" class=\"dataframe\">\n",
       "  <thead>\n",
       "    <tr style=\"text-align: right;\">\n",
       "      <th></th>\n",
       "      <th>ФИО</th>\n",
       "      <th>Группа</th>\n",
       "      <th>Дата_рождения</th>\n",
       "      <th>Оценка_1</th>\n",
       "      <th>Оценка_2</th>\n",
       "      <th>Оценка_3</th>\n",
       "    </tr>\n",
       "  </thead>\n",
       "  <tbody>\n",
       "    <tr>\n",
       "      <th>0</th>\n",
       "      <td>Петров</td>\n",
       "      <td>513</td>\n",
       "      <td>1967-05-23</td>\n",
       "      <td>3.0</td>\n",
       "      <td>4.0</td>\n",
       "      <td>2.0</td>\n",
       "    </tr>\n",
       "    <tr>\n",
       "      <th>2</th>\n",
       "      <td>Бойко</td>\n",
       "      <td>-</td>\n",
       "      <td>1967-09-21</td>\n",
       "      <td>0.0</td>\n",
       "      <td>0.0</td>\n",
       "      <td>0.0</td>\n",
       "    </tr>\n",
       "  </tbody>\n",
       "</table>\n",
       "</div>"
      ],
      "text/plain": [
       "      ФИО Группа Дата_рождения  Оценка_1  Оценка_2  Оценка_3\n",
       "0  Петров    513    1967-05-23       3.0       4.0       2.0\n",
       "2   Бойко      -    1967-09-21       0.0       0.0       0.0"
      ]
     },
     "execution_count": 87,
     "metadata": {},
     "output_type": "execute_result"
    }
   ],
   "source": [
    "# Вывод строк, для которых значение в столбце 'Дата_рождения' не ранее 01.11.1965\n",
    "frame[frame.Дата_рождения >= pd.datetime(1965,11,1)]"
   ]
  },
  {
   "cell_type": "code",
   "execution_count": 88,
   "metadata": {},
   "outputs": [
    {
     "data": {
      "text/html": [
       "<div>\n",
       "<style>\n",
       "    .dataframe thead tr:only-child th {\n",
       "        text-align: right;\n",
       "    }\n",
       "\n",
       "    .dataframe thead th {\n",
       "        text-align: left;\n",
       "    }\n",
       "\n",
       "    .dataframe tbody tr th {\n",
       "        vertical-align: top;\n",
       "    }\n",
       "</style>\n",
       "<table border=\"1\" class=\"dataframe\">\n",
       "  <thead>\n",
       "    <tr style=\"text-align: right;\">\n",
       "      <th></th>\n",
       "      <th>ФИО</th>\n",
       "      <th>Группа</th>\n",
       "      <th>Дата_рождения</th>\n",
       "      <th>Оценка_1</th>\n",
       "      <th>Оценка_2</th>\n",
       "      <th>Оценка_3</th>\n",
       "    </tr>\n",
       "  </thead>\n",
       "  <tbody>\n",
       "    <tr>\n",
       "      <th>0</th>\n",
       "      <td>Петров</td>\n",
       "      <td>513</td>\n",
       "      <td>1967-05-23</td>\n",
       "      <td>3.0</td>\n",
       "      <td>4.0</td>\n",
       "      <td>2.0</td>\n",
       "    </tr>\n",
       "  </tbody>\n",
       "</table>\n",
       "</div>"
      ],
      "text/plain": [
       "      ФИО Группа Дата_рождения  Оценка_1  Оценка_2  Оценка_3\n",
       "0  Петров    513    1967-05-23       3.0       4.0       2.0"
      ]
     },
     "execution_count": 88,
     "metadata": {},
     "output_type": "execute_result"
    }
   ],
   "source": [
    "frame[(frame.Дата_рождения >= pd.datetime(1965,11,1))&(frame.Группа == 513)]"
   ]
  },
  {
   "cell_type": "code",
   "execution_count": 89,
   "metadata": {},
   "outputs": [
    {
     "data": {
      "text/html": [
       "<div>\n",
       "<style>\n",
       "    .dataframe thead tr:only-child th {\n",
       "        text-align: right;\n",
       "    }\n",
       "\n",
       "    .dataframe thead th {\n",
       "        text-align: left;\n",
       "    }\n",
       "\n",
       "    .dataframe tbody tr th {\n",
       "        vertical-align: top;\n",
       "    }\n",
       "</style>\n",
       "<table border=\"1\" class=\"dataframe\">\n",
       "  <thead>\n",
       "    <tr style=\"text-align: right;\">\n",
       "      <th></th>\n",
       "      <th>ФИО</th>\n",
       "      <th>Группа</th>\n",
       "      <th>Дата_рождения</th>\n",
       "      <th>Оценка_1</th>\n",
       "      <th>Оценка_2</th>\n",
       "      <th>Оценка_3</th>\n",
       "    </tr>\n",
       "  </thead>\n",
       "  <tbody>\n",
       "    <tr>\n",
       "      <th>2</th>\n",
       "      <td>Бойко</td>\n",
       "      <td>-</td>\n",
       "      <td>1967-09-21</td>\n",
       "      <td>0.0</td>\n",
       "      <td>0.0</td>\n",
       "      <td>0.0</td>\n",
       "    </tr>\n",
       "  </tbody>\n",
       "</table>\n",
       "</div>"
      ],
      "text/plain": [
       "     ФИО Группа Дата_рождения  Оценка_1  Оценка_2  Оценка_3\n",
       "2  Бойко      -    1967-09-21       0.0       0.0       0.0"
      ]
     },
     "execution_count": 89,
     "metadata": {},
     "output_type": "execute_result"
    }
   ],
   "source": [
    "frame[(frame.Дата_рождения >= pd.datetime(1965,11,1))&(frame.Группа != 513)]"
   ]
  },
  {
   "cell_type": "markdown",
   "metadata": {},
   "source": [
    "#### Задание.\n",
    "Выполните самостоятельно все описанные выше операции с DataFrame (замену пропущенных значений, вывод различных фрагментов таблицы, построение срезов по заданным условиям)."
   ]
  }
 ],
 "metadata": {
  "kernelspec": {
   "display_name": "Python 3",
   "language": "python",
   "name": "python3"
  },
  "language_info": {
   "codemirror_mode": {
    "name": "ipython",
    "version": 3
   },
   "file_extension": ".py",
   "mimetype": "text/x-python",
   "name": "python",
   "nbconvert_exporter": "python",
   "pygments_lexer": "ipython3",
   "version": "3.8.8"
  }
 },
 "nbformat": 4,
 "nbformat_minor": 2
}
